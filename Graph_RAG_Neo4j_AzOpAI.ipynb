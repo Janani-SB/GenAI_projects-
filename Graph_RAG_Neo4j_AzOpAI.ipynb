{
  "nbformat": 4,
  "nbformat_minor": 0,
  "metadata": {
    "colab": {
      "provenance": [],
      "authorship_tag": "ABX9TyM1R4Oq0XNWS49nyVWcx7BX",
      "include_colab_link": true
    },
    "kernelspec": {
      "name": "python3",
      "display_name": "Python 3"
    },
    "language_info": {
      "name": "python"
    }
  },
  "cells": [
    {
      "cell_type": "markdown",
      "metadata": {
        "id": "view-in-github",
        "colab_type": "text"
      },
      "source": [
        "<a href=\"https://colab.research.google.com/github/Janani-SB/GenAI_projects-/blob/main/Graph_RAG_Neo4j_AzOpAI.ipynb\" target=\"_parent\"><img src=\"https://colab.research.google.com/assets/colab-badge.svg\" alt=\"Open In Colab\"/></a>"
      ]
    },
    {
      "cell_type": "markdown",
      "metadata": {
        "id": "72Gwa7dzp1nd"
      },
      "source": [
        "# **Graph RAG with Neo4j and Azure OpenAI**\n"
      ]
    },
    {
      "cell_type": "markdown",
      "metadata": {
        "id": "LW14KtWvp1nl"
      },
      "source": [
        "<img src=\"./architecture.png\">"
      ]
    },
    {
      "cell_type": "markdown",
      "metadata": {
        "id": "0GrVIgLLp1nm"
      },
      "source": [
        "### installing dependencies\n"
      ]
    },
    {
      "cell_type": "code",
      "execution_count": null,
      "metadata": {
        "id": "ov9fdPDFp1no",
        "outputId": "77212227-8e2f-49ff-f77f-08a337410132",
        "colab": {
          "base_uri": "https://localhost:8080/"
        }
      },
      "outputs": [
        {
          "output_type": "stream",
          "name": "stdout",
          "text": [
            "Requirement already satisfied: openai in /usr/local/lib/python3.11/dist-packages (1.86.0)\n",
            "Requirement already satisfied: anyio<5,>=3.5.0 in /usr/local/lib/python3.11/dist-packages (from openai) (4.9.0)\n",
            "Requirement already satisfied: distro<2,>=1.7.0 in /usr/local/lib/python3.11/dist-packages (from openai) (1.9.0)\n",
            "Requirement already satisfied: httpx<1,>=0.23.0 in /usr/local/lib/python3.11/dist-packages (from openai) (0.28.1)\n",
            "Requirement already satisfied: jiter<1,>=0.4.0 in /usr/local/lib/python3.11/dist-packages (from openai) (0.10.0)\n",
            "Requirement already satisfied: pydantic<3,>=1.9.0 in /usr/local/lib/python3.11/dist-packages (from openai) (2.11.7)\n",
            "Requirement already satisfied: sniffio in /usr/local/lib/python3.11/dist-packages (from openai) (1.3.1)\n",
            "Requirement already satisfied: tqdm>4 in /usr/local/lib/python3.11/dist-packages (from openai) (4.67.1)\n",
            "Requirement already satisfied: typing-extensions<5,>=4.11 in /usr/local/lib/python3.11/dist-packages (from openai) (4.14.0)\n",
            "Requirement already satisfied: idna>=2.8 in /usr/local/lib/python3.11/dist-packages (from anyio<5,>=3.5.0->openai) (3.10)\n",
            "Requirement already satisfied: certifi in /usr/local/lib/python3.11/dist-packages (from httpx<1,>=0.23.0->openai) (2025.6.15)\n",
            "Requirement already satisfied: httpcore==1.* in /usr/local/lib/python3.11/dist-packages (from httpx<1,>=0.23.0->openai) (1.0.9)\n",
            "Requirement already satisfied: h11>=0.16 in /usr/local/lib/python3.11/dist-packages (from httpcore==1.*->httpx<1,>=0.23.0->openai) (0.16.0)\n",
            "Requirement already satisfied: annotated-types>=0.6.0 in /usr/local/lib/python3.11/dist-packages (from pydantic<3,>=1.9.0->openai) (0.7.0)\n",
            "Requirement already satisfied: pydantic-core==2.33.2 in /usr/local/lib/python3.11/dist-packages (from pydantic<3,>=1.9.0->openai) (2.33.2)\n",
            "Requirement already satisfied: typing-inspection>=0.4.0 in /usr/local/lib/python3.11/dist-packages (from pydantic<3,>=1.9.0->openai) (0.4.1)\n"
          ]
        }
      ],
      "source": [
        "%pip install openai"
      ]
    },
    {
      "cell_type": "code",
      "execution_count": null,
      "metadata": {
        "id": "9hZ-p5bYp1nr",
        "outputId": "757f316e-02ab-45c1-ab66-4c3eeefe6d68",
        "colab": {
          "base_uri": "https://localhost:8080/"
        }
      },
      "outputs": [
        {
          "output_type": "stream",
          "name": "stdout",
          "text": [
            "Requirement already satisfied: python-dotenv in /usr/local/lib/python3.11/dist-packages (1.1.0)\n"
          ]
        }
      ],
      "source": [
        "%pip install python-dotenv"
      ]
    },
    {
      "cell_type": "code",
      "execution_count": null,
      "metadata": {
        "id": "LCLmAtVrp1nr",
        "outputId": "99f28b39-8737-473a-b5af-32dbe68486df",
        "colab": {
          "base_uri": "https://localhost:8080/"
        }
      },
      "outputs": [
        {
          "output_type": "execute_result",
          "data": {
            "text/plain": [
              "False"
            ]
          },
          "metadata": {},
          "execution_count": 13
        }
      ],
      "source": [
        "from openai import AzureOpenAI\n",
        "import os\n",
        "from dotenv import load_dotenv\n",
        "load_dotenv()"
      ]
    },
    {
      "cell_type": "markdown",
      "metadata": {
        "id": "DW4OWlUwp1nt"
      },
      "source": [
        "### Creating Azure OpenAI Client"
      ]
    },
    {
      "cell_type": "code",
      "execution_count": null,
      "metadata": {
        "id": "X2LnTcaEp1nu",
        "colab": {
          "base_uri": "https://localhost:8080/",
          "height": 420
        },
        "outputId": "415eb53d-c8c7-46f8-92f8-f1b9ef7c9e46"
      },
      "outputs": [
        {
          "output_type": "error",
          "ename": "OpenAIError",
          "evalue": "Missing credentials. Please pass one of `api_key`, `azure_ad_token`, `azure_ad_token_provider`, or the `AZURE_OPENAI_API_KEY` or `AZURE_OPENAI_AD_TOKEN` environment variables.",
          "traceback": [
            "\u001b[0;31m---------------------------------------------------------------------------\u001b[0m",
            "\u001b[0;31mOpenAIError\u001b[0m                               Traceback (most recent call last)",
            "\u001b[0;32m/tmp/ipython-input-22-3898030750.py\u001b[0m in \u001b[0;36m<cell line: 0>\u001b[0;34m()\u001b[0m\n\u001b[1;32m      4\u001b[0m \u001b[0mazure_openai_key\u001b[0m \u001b[0;34m=\u001b[0m \u001b[0mos\u001b[0m\u001b[0;34m.\u001b[0m\u001b[0mgetenv\u001b[0m\u001b[0;34m(\u001b[0m\u001b[0;34m\"AZURE_OPENAI_KEY\"\u001b[0m\u001b[0;34m)\u001b[0m\u001b[0;34m\u001b[0m\u001b[0;34m\u001b[0m\u001b[0m\n\u001b[1;32m      5\u001b[0m \u001b[0;34m\u001b[0m\u001b[0m\n\u001b[0;32m----> 6\u001b[0;31m azure_openai_client = AzureOpenAI(\n\u001b[0m\u001b[1;32m      7\u001b[0m     \u001b[0mapi_key\u001b[0m\u001b[0;34m=\u001b[0m\u001b[0mazure_openai_key\u001b[0m\u001b[0;34m,\u001b[0m\u001b[0;34m\u001b[0m\u001b[0;34m\u001b[0m\u001b[0m\n\u001b[1;32m      8\u001b[0m     \u001b[0mapi_version\u001b[0m\u001b[0;34m=\u001b[0m\u001b[0;34m\"2024-12-01-preview\"\u001b[0m\u001b[0;34m,\u001b[0m \u001b[0;31m# turbo-2024-04-09 / 2024-08-01-preview\u001b[0m\u001b[0;34m\u001b[0m\u001b[0;34m\u001b[0m\u001b[0m\n",
            "\u001b[0;32m/usr/local/lib/python3.11/dist-packages/openai/lib/azure.py\u001b[0m in \u001b[0;36m__init__\u001b[0;34m(self, api_version, azure_endpoint, azure_deployment, api_key, azure_ad_token, azure_ad_token_provider, organization, project, websocket_base_url, base_url, timeout, max_retries, default_headers, default_query, http_client, _strict_response_validation)\u001b[0m\n\u001b[1;32m    193\u001b[0m \u001b[0;34m\u001b[0m\u001b[0m\n\u001b[1;32m    194\u001b[0m         \u001b[0;32mif\u001b[0m \u001b[0mapi_key\u001b[0m \u001b[0;32mis\u001b[0m \u001b[0;32mNone\u001b[0m \u001b[0;32mand\u001b[0m \u001b[0mazure_ad_token\u001b[0m \u001b[0;32mis\u001b[0m \u001b[0;32mNone\u001b[0m \u001b[0;32mand\u001b[0m \u001b[0mazure_ad_token_provider\u001b[0m \u001b[0;32mis\u001b[0m \u001b[0;32mNone\u001b[0m\u001b[0;34m:\u001b[0m\u001b[0;34m\u001b[0m\u001b[0;34m\u001b[0m\u001b[0m\n\u001b[0;32m--> 195\u001b[0;31m             raise OpenAIError(\n\u001b[0m\u001b[1;32m    196\u001b[0m                 \u001b[0;34m\"Missing credentials. Please pass one of `api_key`, `azure_ad_token`, `azure_ad_token_provider`, or the `AZURE_OPENAI_API_KEY` or `AZURE_OPENAI_AD_TOKEN` environment variables.\"\u001b[0m\u001b[0;34m\u001b[0m\u001b[0;34m\u001b[0m\u001b[0m\n\u001b[1;32m    197\u001b[0m             )\n",
            "\u001b[0;31mOpenAIError\u001b[0m: Missing credentials. Please pass one of `api_key`, `azure_ad_token`, `azure_ad_token_provider`, or the `AZURE_OPENAI_API_KEY` or `AZURE_OPENAI_AD_TOKEN` environment variables."
          ]
        }
      ],
      "source": [
        "azure_openai_endpoint = os.getenv(\"AZURE_OPENAI_ENDPOINT\")\n",
        "azure_openai_key = os.getenv(\"AZURE_OPENAI_KEY\")\n",
        "azure_openai_endpoint = os.getenv(\"AZURE_OPENAI_ENDPOINT\")\n",
        "azure_openai_key = os.getenv(\"AZURE_OPENAI_KEY\")\n",
        "\n",
        "azure_openai_client = AzureOpenAI(\n",
        "    api_key=azure_openai_key,\n",
        "    api_version=\"2024-12-01-preview\", # turbo-2024-04-09 / 2024-08-01-preview\n",
        "    azure_endpoint=azure_openai_endpoint\n",
        ")"
      ]
    },
    {
      "cell_type": "code",
      "execution_count": null,
      "metadata": {
        "id": "ck3ta0fap1nu"
      },
      "outputs": [],
      "source": [
        "ontology_list = []"
      ]
    },
    {
      "cell_type": "markdown",
      "metadata": {
        "id": "o8d9kd3Np1nv"
      },
      "source": [
        "### Creating a function to identify nodes and their relationships\n",
        "the code will send a call to GPT engine and the GPT engine will output nodes and relationships based upon the ontology defined in the prompt we feed\n",
        "it with"
      ]
    },
    {
      "cell_type": "code",
      "execution_count": null,
      "metadata": {
        "id": "brxw2Lylp1nw"
      },
      "outputs": [],
      "source": [
        "def identify_relationships_and_nodes(file_text):\n",
        "\n",
        "    system_prompt = f\"\"\"Assistant is a Named Entity Recognition (NER) expert. The assistant can identify named entities\n",
        "    such as a person, place, or thing. The assistant can also identify entity relationships, which describe\n",
        "    how entities relate to each other (eg: married to, located in, held by). Identify the named entities\n",
        "    and the entity relationships present in the text by returning comma separated list of tuples\n",
        "    representing the relationship between two entities in the format (entity, relationship, entity). Only\n",
        "    generate tuples from the list of entities and the possible entity relationships listed below. Return\n",
        "    only generated tuples in a comma separated tuple separated by a new line for each tuple.\n",
        "\n",
        "    Entities:\n",
        "    - Hotel\n",
        "    - Location\n",
        "    - Facilities\n",
        "    - CustomerType\n",
        "    - Reviewer\n",
        "\n",
        "    Relationships:\n",
        "    - [Hotel],is_located_in,[Location]\n",
        "    - [Hotel],has_facilities,[Facilities]\n",
        "    - [Hotel],has_customers,[CustomerType]\n",
        "    - [Hotel],has_reviewer,[Reviewer]\n",
        "\n",
        "    Example Output:\n",
        "    Creek Hotel,is_located_in,Dubai\n",
        "    Creek Hotel,has_facilities,swimming pool\n",
        "    Creek Hotel,has_customers,Businessmen\n",
        "    Creek Hotel,has_customers,senior citizens\n",
        "    Creek Hotel,has_reviewer,John Doe\n",
        "\n",
        "    \"\"\"\n",
        "\n",
        "    user_prompt = f\"\"\"Identify the named entities and entity relationships in the hotel review text above. Return the\n",
        "    entities and entity relationships in a tuple separated by commas. Return only generated tuples in a\n",
        "    comma separated tuple separated by a new line for each tuple.\n",
        "\n",
        "    Text: {file_text}\"\"\"\n",
        "\n",
        "    chat_completions_response = azure_openai_client.chat.completions.create(\n",
        "        model = os.getenv(\"GPT_ENGINE\"),\n",
        "        messages = [\n",
        "            {\"role\": \"system\", \"content\": system_prompt},\n",
        "            {\"role\": \"user\", \"content\": user_prompt}\n",
        "        ],\n",
        "        temperature=0\n",
        "    )\n",
        "\n",
        "    ontology_list.append(chat_completions_response.choices[0].message.content)\n",
        "\n",
        "    print(chat_completions_response.choices[0].message.content)\n",
        "    return chat_completions_response.choices[0].message.content\n"
      ]
    },
    {
      "cell_type": "code",
      "execution_count": null,
      "metadata": {
        "id": "Wx6JjK9Wp1nx",
        "outputId": "dcd6c1ac-72b1-424c-f7ce-f97e39e8bb4d"
      },
      "outputs": [
        {
          "name": "stdout",
          "output_type": "stream",
          "text": [
            "The Creek Hotel,is_located_in,Dubai  \n",
            "The Creek Hotel,has_facilities,sofa  \n",
            "The Creek Hotel,has_facilities,TV  \n",
            "The Creek Hotel,has_facilities,hot-shower bath  \n",
            "The Creek Hotel,has_customers,Businessmen  \n",
            "The Creek Hotel,has_customers,Tourists  \n",
            "The Creek Hotel,has_reviewer,Ryouta Sato  \n",
            "The Buckingham Hotel,is_located_in,New York City\n",
            "The Buckingham Hotel,has_facilities,sofa\n",
            "The Buckingham Hotel,has_facilities,TV\n",
            "The Buckingham Hotel,has_facilities,hot-shower bath\n",
            "The Buckingham Hotel,has_reviewer,Issac Collett\n",
            "The Buckingham Hotel,is_located_in,London  \n",
            "The Buckingham Hotel,has_reviewer,Akiko Kaneko\n",
            "The Kensington Hotel,is_located_in,Oslo\n",
            "The Kensington Hotel,has_reviewer,Hsiung Chuang\n",
            "The Deira Hotel,is_located_in,Beijing\n",
            "The Deira Hotel,is_located_in,Dubai\n",
            "The Deira Hotel,has_facilities,restaurants\n",
            "The Deira Hotel,has_reviewer,Reina Inoue\n"
          ]
        }
      ],
      "source": [
        "with open(\"./reviews/201801.txt\", \"r\") as file:\n",
        "    file_text = file.read()\n",
        "    identify_relationships_and_nodes(file_text)\n",
        "\n",
        "with open(\"./reviews/201802.txt\", \"r\") as file:\n",
        "    file_text = file.read()\n",
        "    identify_relationships_and_nodes(file_text)\n",
        "\n",
        "with open(\"./reviews/201803.txt\", \"r\") as file:\n",
        "    file_text = file.read()\n",
        "    identify_relationships_and_nodes(file_text)\n",
        "\n",
        "with open(\"./reviews/201804.txt\", \"r\") as file:\n",
        "    file_text = file.read()\n",
        "    identify_relationships_and_nodes(file_text)\n",
        "\n",
        "with open(\"./reviews/201805.txt\", \"r\") as file:\n",
        "    file_text = file.read()\n",
        "    identify_relationships_and_nodes(file_text)\n"
      ]
    },
    {
      "cell_type": "code",
      "execution_count": null,
      "metadata": {
        "id": "erCw5uGLp1nx"
      },
      "outputs": [],
      "source": [
        "node_creation_cypher_list = []"
      ]
    },
    {
      "cell_type": "markdown",
      "metadata": {
        "id": "W7U5RXSCp1nx"
      },
      "source": [
        "### Creating A Function for Cypher Query Generation\n",
        "Based upon the relationships and nodes derived from the text, we instruct GPT engine to generate cypher query\n",
        "for building a grpah in Neo4j Aura Database\n"
      ]
    },
    {
      "cell_type": "code",
      "execution_count": null,
      "metadata": {
        "id": "kh4HOUP8p1ny"
      },
      "outputs": [],
      "source": [
        "def generate_cypher_for_node_creation(ontology_text):\n",
        "    cypher_system_prompt = f\"\"\" Assistant is an expert in Neo4j Cypher development. Create a cypher query to generate a graph using the data points provided.\n",
        "    make sure to only include the cypher query in your response so that I can directly send this cypher query to the Neo4j database API endpoint\n",
        "    via a POST request. The data is in the format of a comma separated tuple separated by a new line for each tuple.\n",
        "\n",
        "    \"\"\"\n",
        "\n",
        "    cypher_user_prompt = f\"\"\"Generate a cypher query to create new nodes and their relationships given the data provided. Return only the cypher query.\n",
        "    Data is composed of relationships between entities that have been extracted using NER.\n",
        "    The data is in the format of a comma separated tuple separated by a new line for each tuple.\n",
        "\n",
        "    Example Input:\n",
        "    Creek Hotel,is_located_in,Dubai\n",
        "    Creek Hotel,has_customers,businessmen\n",
        "    Creek Hotel,has_customers,tourists\n",
        "    Creek Hotel,has_reviewer,Ryouta Sato\n",
        "    Creeh Hotel,has_facilities,swimming pool\n",
        "\n",
        "    Example Output:\n",
        "    CREATE (ch:Hotel {{name: 'Creek Hotel'}})-[:is_located_in]->(d:Location {{name: 'Dubai'}}),\n",
        "        (ch)-[:has_customers]->(b:CustomerType {{name: 'businessmen'}}),\n",
        "        (ch)-[:has_customers]->(t:CustomerType {{name: 'tourists'}}),\n",
        "        (ch)-[:has_reviewer]->(rs:Reviewer {{name: 'Ryouta Sato'}}),\n",
        "        (ch)-[:has_facilities]->(sp:Facilities {{name: 'swimming pool'}})\n",
        "\n",
        "    strictly stick to the above output format\n",
        "\n",
        "    use distinct variable names for each node and relationship to avoid conflicts\n",
        "\n",
        "    the data is: {ontology_text}\n",
        "\n",
        "    \"\"\"\n",
        "\n",
        "    cypher_query = azure_openai_client.chat.completions.create(\n",
        "        model = os.getenv(\"GPT_ENGINE\"),\n",
        "        messages = [\n",
        "            {\"role\": \"system\", \"content\": cypher_system_prompt},\n",
        "            {\"role\": \"user\", \"content\": cypher_user_prompt}\n",
        "        ],\n",
        "        temperature=0\n",
        "    )\n",
        "\n",
        "    node_creation_cypher_list.append(cypher_query.choices[0].message.content)\n",
        "\n",
        "    print(cypher_query.choices[0].message.content)\n",
        "    return cypher_query.choices[0].message.content"
      ]
    },
    {
      "cell_type": "code",
      "execution_count": null,
      "metadata": {
        "id": "JUYPwfjrp1oY",
        "outputId": "d9d0ba54-0e39-4f58-cd58-e5ab2d0e716a"
      },
      "outputs": [
        {
          "data": {
            "text/plain": [
              "[]"
            ]
          },
          "execution_count": 15,
          "metadata": {},
          "output_type": "execute_result"
        }
      ],
      "source": [
        "node_creation_cypher_list"
      ]
    },
    {
      "cell_type": "code",
      "execution_count": null,
      "metadata": {
        "id": "Um6IpxkUp1oY",
        "outputId": "d2ff844b-0eac-4a0c-8dd0-acb8e3bdbc55"
      },
      "outputs": [
        {
          "name": "stdout",
          "output_type": "stream",
          "text": [
            "CREATE (tch:Hotel {name: 'The Creek Hotel'})-[:is_located_in]->(d:Location {name: 'Dubai'}),\n",
            "    (tch)-[:has_facilities]->(sf:Facilities {name: 'sofa'}),\n",
            "    (tch)-[:has_facilities]->(tv:Facilities {name: 'TV'}),\n",
            "    (tch)-[:has_facilities]->(hsb:Facilities {name: 'hot-shower bath'}),\n",
            "    (tch)-[:has_customers]->(b:CustomerType {name: 'Businessmen'}),\n",
            "    (tch)-[:has_customers]->(t:CustomerType {name: 'Tourists'}),\n",
            "    (tch)-[:has_reviewer]->(rs:Reviewer {name: 'Ryouta Sato'})\n",
            "CREATE (bch:Hotel {name: 'The Buckingham Hotel'})-[:is_located_in]->(nyc:Location {name: 'New York City'}),\n",
            "    (bch)-[:has_facilities]->(sofa:Facilities {name: 'sofa'}),\n",
            "    (bch)-[:has_facilities]->(tv:Facilities {name: 'TV'}),\n",
            "    (bch)-[:has_facilities]->(hsb:Facilities {name: 'hot-shower bath'}),\n",
            "    (bch)-[:has_reviewer]->(ic:Reviewer {name: 'Issac Collett'})\n",
            "CREATE (bch:Hotel {name: 'The Buckingham Hotel'})-[:is_located_in]->(l:Location {name: 'London'}),\n",
            "       (bch)-[:has_reviewer]->(ak:Reviewer {name: 'Akiko Kaneko'})\n",
            "CREATE (kh:Hotel {name: 'The Kensington Hotel'})-[:is_located_in]->(o:Location {name: 'Oslo'}),\n",
            "       (kh)-[:has_reviewer]->(hc:Reviewer {name: 'Hsiung Chuang'})\n",
            "CREATE (dh:Hotel {name: 'The Deira Hotel'})-[:is_located_in]->(b1:Location {name: 'Beijing'}),\n",
            "    (dh)-[:is_located_in]->(d:Location {name: 'Dubai'}),\n",
            "    (dh)-[:has_facilities]->(r:Facilities {name: 'restaurants'}),\n",
            "    (dh)-[:has_reviewer]->(ri:Reviewer {name: 'Reina Inoue'})\n"
          ]
        }
      ],
      "source": [
        "for x in ontology_list:\n",
        "    generate_cypher_for_node_creation(x)"
      ]
    },
    {
      "cell_type": "code",
      "execution_count": null,
      "metadata": {
        "id": "GY3SjlwIp1oZ",
        "outputId": "54e58e64-36b5-4b79-baf4-a740359d1339"
      },
      "outputs": [
        {
          "name": "stdout",
          "output_type": "stream",
          "text": [
            "CREATE (tch:Hotel {name: 'The Creek Hotel'})-[:is_located_in]->(d:Location {name: 'Dubai'}),\n",
            "    (tch)-[:has_facilities]->(sf:Facilities {name: 'sofa'}),\n",
            "    (tch)-[:has_facilities]->(tv:Facilities {name: 'TV'}),\n",
            "    (tch)-[:has_facilities]->(hsb:Facilities {name: 'hot-shower bath'}),\n",
            "    (tch)-[:has_customers]->(b:CustomerType {name: 'Businessmen'}),\n",
            "    (tch)-[:has_customers]->(t:CustomerType {name: 'Tourists'}),\n",
            "    (tch)-[:has_reviewer]->(rs:Reviewer {name: 'Ryouta Sato'})\n",
            "CREATE (bch:Hotel {name: 'The Buckingham Hotel'})-[:is_located_in]->(nyc:Location {name: 'New York City'}),\n",
            "    (bch)-[:has_facilities]->(sofa:Facilities {name: 'sofa'}),\n",
            "    (bch)-[:has_facilities]->(tv:Facilities {name: 'TV'}),\n",
            "    (bch)-[:has_facilities]->(hsb:Facilities {name: 'hot-shower bath'}),\n",
            "    (bch)-[:has_reviewer]->(ic:Reviewer {name: 'Issac Collett'})\n",
            "CREATE (bch:Hotel {name: 'The Buckingham Hotel'})-[:is_located_in]->(l:Location {name: 'London'}),\n",
            "       (bch)-[:has_reviewer]->(ak:Reviewer {name: 'Akiko Kaneko'})\n",
            "CREATE (kh:Hotel {name: 'The Kensington Hotel'})-[:is_located_in]->(o:Location {name: 'Oslo'}),\n",
            "       (kh)-[:has_reviewer]->(hc:Reviewer {name: 'Hsiung Chuang'})\n",
            "CREATE (dh:Hotel {name: 'The Deira Hotel'})-[:is_located_in]->(b1:Location {name: 'Beijing'}),\n",
            "    (dh)-[:is_located_in]->(d:Location {name: 'Dubai'}),\n",
            "    (dh)-[:has_facilities]->(r:Facilities {name: 'restaurants'}),\n",
            "    (dh)-[:has_reviewer]->(ri:Reviewer {name: 'Reina Inoue'})\n"
          ]
        }
      ],
      "source": [
        "for x in node_creation_cypher_list:\n",
        "    print(x)"
      ]
    },
    {
      "cell_type": "code",
      "execution_count": null,
      "metadata": {
        "id": "kKLfxkAcp1oZ",
        "outputId": "ee9ae556-fc1f-4182-f59a-999e59e56e06"
      },
      "outputs": [
        {
          "name": "stdout",
          "output_type": "stream",
          "text": [
            "Requirement already satisfied: neo4j in d:\\software\\lib\\site-packages (5.27.0)\n",
            "Requirement already satisfied: pytz in d:\\software\\lib\\site-packages (from neo4j) (2024.1)\n",
            "Note: you may need to restart the kernel to use updated packages.\n"
          ]
        }
      ],
      "source": [
        "%pip install neo4j"
      ]
    },
    {
      "cell_type": "code",
      "execution_count": null,
      "metadata": {
        "id": "i0PjBsM6p1oZ",
        "outputId": "919cde88-c838-482f-c3f0-663c94a8169d"
      },
      "outputs": [
        {
          "name": "stdout",
          "output_type": "stream",
          "text": [
            "CREATE (tch:Hotel {name: 'The Creek Hotel'})-[:is_located_in]->(d:Location {name: 'Dubai'}),\n",
            "    (tch)-[:has_facilities]->(sf:Facilities {name: 'sofa'}),\n",
            "    (tch)-[:has_facilities]->(tv:Facilities {name: 'TV'}),\n",
            "    (tch)-[:has_facilities]->(hsb:Facilities {name: 'hot-shower bath'}),\n",
            "    (tch)-[:has_customers]->(b:CustomerType {name: 'Businessmen'}),\n",
            "    (tch)-[:has_customers]->(t:CustomerType {name: 'Tourists'}),\n",
            "    (tch)-[:has_reviewer]->(rs:Reviewer {name: 'Ryouta Sato'})\n"
          ]
        }
      ],
      "source": [
        "print(node_creation_cypher_list[0])"
      ]
    },
    {
      "cell_type": "markdown",
      "metadata": {
        "id": "qTZFWuwYp1oZ"
      },
      "source": [
        "### Creating Graph in Neo4j Aura Database\n"
      ]
    },
    {
      "cell_type": "code",
      "execution_count": null,
      "metadata": {
        "id": "gGaaM2wjp1oZ",
        "outputId": "70adfade-1aaa-4f00-c83c-1014acb2ef13"
      },
      "outputs": [
        {
          "name": "stdout",
          "output_type": "stream",
          "text": [
            "Executed: CREATE (tch:Hotel {name: 'The Creek Hotel'})-[:is_located_in]->(d:Location {name: 'Dubai'}),\n",
            "    (tch)-[:has_facilities]->(sf:Facilities {name: 'sofa'}),\n",
            "    (tch)-[:has_facilities]->(tv:Facilities {name: 'TV'}),\n",
            "    (tch)-[:has_facilities]->(hsb:Facilities {name: 'hot-shower bath'}),\n",
            "    (tch)-[:has_customers]->(b:CustomerType {name: 'Businessmen'}),\n",
            "    (tch)-[:has_customers]->(t:CustomerType {name: 'Tourists'}),\n",
            "    (tch)-[:has_reviewer]->(rs:Reviewer {name: 'Ryouta Sato'})\n",
            "Executed: CREATE (bch:Hotel {name: 'The Buckingham Hotel'})-[:is_located_in]->(nyc:Location {name: 'New York City'}),\n",
            "    (bch)-[:has_facilities]->(sofa:Facilities {name: 'sofa'}),\n",
            "    (bch)-[:has_facilities]->(tv:Facilities {name: 'TV'}),\n",
            "    (bch)-[:has_facilities]->(hsb:Facilities {name: 'hot-shower bath'}),\n",
            "    (bch)-[:has_reviewer]->(ic:Reviewer {name: 'Issac Collett'})\n",
            "Executed: CREATE (bch:Hotel {name: 'The Buckingham Hotel'})-[:is_located_in]->(l:Location {name: 'London'}),\n",
            "       (bch)-[:has_reviewer]->(ak:Reviewer {name: 'Akiko Kaneko'})\n",
            "Executed: CREATE (kh:Hotel {name: 'The Kensington Hotel'})-[:is_located_in]->(o:Location {name: 'Oslo'}),\n",
            "       (kh)-[:has_reviewer]->(hc:Reviewer {name: 'Hsiung Chuang'})\n",
            "Executed: CREATE (dh:Hotel {name: 'The Deira Hotel'})-[:is_located_in]->(b1:Location {name: 'Beijing'}),\n",
            "    (dh)-[:is_located_in]->(d:Location {name: 'Dubai'}),\n",
            "    (dh)-[:has_facilities]->(r:Facilities {name: 'restaurants'}),\n",
            "    (dh)-[:has_reviewer]->(ri:Reviewer {name: 'Reina Inoue'})\n"
          ]
        },
        {
          "data": {
            "text/plain": [
              "'\\nfrom neo4j import GraphDatabase\\n\\n# URI examples: \"neo4j://localhost\", \"neo4j+s://xxx.databases.neo4j.io\"\\nURI = \"neo4j+s://59e96eea.databases.neo4j.io\"\\nAUTH = (neo4j_username, neo4j_password)\\n\\nwith GraphDatabase.driver(URI, auth=AUTH) as driver:\\n    driver.verify_connectivity()\\n'"
            ]
          },
          "execution_count": 21,
          "metadata": {},
          "output_type": "execute_result"
        }
      ],
      "source": [
        "from neo4j import GraphDatabase\n",
        "import os\n",
        "\n",
        "#uri = os.getenv(\"NEO4J_URI\")\n",
        "url = \"neo4j+s://510491b8.databases.neo4j.io\"\n",
        "#url = \"neo4j+s://{}.databases.neo4j.io\".format(uri)\n",
        "# neo4j+s://59e96eea.databases.neo4j.io\n",
        "\n",
        "neo4j_username = os.getenv(\"NEO4J_USERNAME\")\n",
        "neo4j_password = os.getenv(\"NEO4J_PASSWORD\")\n",
        "\n",
        "driver = GraphDatabase.driver(url, auth=(neo4j_username, neo4j_password))\n",
        "\n",
        "with driver.session() as session:\n",
        "        for cypher_query in node_creation_cypher_list:\n",
        "            session.run(cypher_query)\n",
        "            print(f\"Executed: {cypher_query}\")\n",
        "\n",
        "\"\"\"\n",
        "from neo4j import GraphDatabase\n",
        "\n",
        "# URI examples: \"neo4j://localhost\", \"neo4j+s://xxx.databases.neo4j.io\"\n",
        "URI = \"neo4j+s://59e96eea.databases.neo4j.io\"\n",
        "AUTH = (neo4j_username, neo4j_password)\n",
        "\n",
        "with GraphDatabase.driver(URI, auth=AUTH) as driver:\n",
        "    driver.verify_connectivity()\n",
        "\"\"\""
      ]
    },
    {
      "cell_type": "code",
      "execution_count": null,
      "metadata": {
        "id": "RpRt4YCYp1oa",
        "outputId": "a478f5c9-b906-41e2-efdd-2f9537597c12"
      },
      "outputs": [
        {
          "data": {
            "text/plain": [
              "'\\nfrom neo4j import GraphDatabase\\n\\n# URI examples: \"neo4j://localhost\", \"neo4j+s://xxx.databases.neo4j.io\"\\nURI = \"neo4j+s://59e96eea.databases.neo4j.io\"\\nAUTH = (neo4j_username, neo4j_password)\\n\\nwith GraphDatabase.driver(URI, auth=AUTH) as driver:\\n    driver.verify_connectivity()\\n'"
            ]
          },
          "execution_count": 19,
          "metadata": {},
          "output_type": "execute_result"
        }
      ],
      "source": [
        "\"\"\"\n",
        "from neo4j import GraphDatabase\n",
        "\n",
        "# URI examples: \"neo4j://localhost\", \"neo4j+s://xxx.databases.neo4j.io\"\n",
        "URI = \"neo4j+s://59e96eea.databases.neo4j.io\"\n",
        "AUTH = (neo4j_username, neo4j_password)\n",
        "\n",
        "with GraphDatabase.driver(URI, auth=AUTH) as driver:\n",
        "    driver.verify_connectivity()\n",
        "\"\"\""
      ]
    },
    {
      "cell_type": "markdown",
      "metadata": {
        "id": "x3MRUJAqp1oa"
      },
      "source": [
        "### Defining function for generation of cypher query to retrieve nodes and context based upon user query"
      ]
    },
    {
      "cell_type": "code",
      "execution_count": null,
      "metadata": {
        "id": "YS2H35P1p1oa"
      },
      "outputs": [],
      "source": [
        "def query_neo4j_graph(user_query):\n",
        "    query_with_cypher_system_prompt = f\"\"\"Assistant is an expert in Neo4j Cypher development. Only return a cypher query based on the user query\n",
        "    the cypher graph has the following schema:\n",
        "\n",
        "    Nodes:\n",
        "    - Hotel\n",
        "    - Location\n",
        "    - Facilities\n",
        "    - CustomerType\n",
        "    - Reviewer\n",
        "\n",
        "    Relationships:\n",
        "    - [Hotel],is_located_in,[Location]\n",
        "    - [Hotel],has_facilities,[Facilities]\n",
        "    - [Hotel],has_customers,[CustomerType]\n",
        "    - [Hotel],has_reviewer,[Reviewer]\n",
        "\n",
        "    example of a node created through cypher query:\n",
        "    {node_creation_cypher_list[0]}\n",
        "\n",
        "    Example Input:\n",
        "    what hotels are reviewed by Ryouta Sato?\n",
        "\n",
        "    Example Output:\n",
        "    MATCH (h:Hotel)-[:has_reviewer]-(r:Reviewer {{name: 'Ryouta Sato'}})\n",
        "    RETURN h\n",
        "\n",
        "    stick strictly to the above output format\n",
        "    \"\"\"\n",
        "\n",
        "    query_with_cypher_user_prompt = f\"\"\"Generate a cypher query to answer the user query.\n",
        "    user_query = {user_query}\"\"\"\n",
        "\n",
        "    query_response = azure_openai_client.chat.completions.create(\n",
        "        model = os.getenv(\"GPT_ENGINE\"),\n",
        "        messages = [\n",
        "            {\"role\": \"system\", \"content\": query_with_cypher_system_prompt},\n",
        "            {\"role\": \"user\", \"content\": query_with_cypher_user_prompt}\n",
        "        ],\n",
        "        temperature=0\n",
        "    )\n",
        "\n",
        "    cypher_query_for_retrieval = query_response.choices[0].message.content\n",
        "\n",
        "    print(cypher_query_for_retrieval)\n",
        "\n",
        "    return cypher_query_for_retrieval"
      ]
    },
    {
      "cell_type": "code",
      "execution_count": null,
      "metadata": {
        "id": "8_4DwA-Ep1ob",
        "outputId": "55cfa78c-a469-4f22-f5f1-c2c720a98e42"
      },
      "outputs": [
        {
          "name": "stdout",
          "output_type": "stream",
          "text": [
            "MATCH (h:Hotel)-[:has_customers]-(c:CustomerType {name: 'Businessmen'})\n",
            "RETURN h\n"
          ]
        }
      ],
      "source": [
        "user_query = \"which hotels are visited by businessmen?\"\n",
        "cypher_query_for_retrieval = query_neo4j_graph(user_query)"
      ]
    },
    {
      "cell_type": "code",
      "execution_count": null,
      "metadata": {
        "id": "T7pJFyIRp1ob",
        "outputId": "5755848b-5133-4789-fdc6-586eff258f4f"
      },
      "outputs": [
        {
          "name": "stdout",
          "output_type": "stream",
          "text": [
            "MATCH (h:Hotel)-[:has_facilities]->(f:Facilities)\n",
            "RETURN h, f\n",
            "ORDER BY f.name DESC\n",
            "LIMIT 1\n"
          ]
        }
      ],
      "source": [
        "user_query = \"which hotels has a best facility?\"\n",
        "cypher_query_for_retrieval = query_neo4j_graph(user_query)"
      ]
    },
    {
      "cell_type": "code",
      "execution_count": null,
      "metadata": {
        "id": "xfSkrtl2p1oc",
        "outputId": "3942336a-131d-40b3-bd92-f0b4ed029974"
      },
      "outputs": [
        {
          "name": "stdout",
          "output_type": "stream",
          "text": [
            "MATCH (h:Hotel {name: 'The Creek Hotel'})<-[:has_reviewer]-(r:Reviewer)\n",
            "RETURN r ORDER BY r.rating DESC LIMIT 1\n"
          ]
        }
      ],
      "source": [
        "user_query = \"which customer has given best review about creek hotel?\"\n",
        "cypher_query_for_retrieval = query_neo4j_graph(user_query)"
      ]
    },
    {
      "cell_type": "code",
      "execution_count": null,
      "metadata": {
        "id": "AJ5QSVwQp1oc",
        "outputId": "cca0477a-453d-4c2e-8d1d-de2df7f44319"
      },
      "outputs": [
        {
          "name": "stderr",
          "output_type": "stream",
          "text": [
            "Received notification from DBMS server: {severity: WARNING} {code: Neo.ClientNotification.Statement.UnknownPropertyKeyWarning} {category: UNRECOGNIZED} {title: The provided property key is not in the database} {description: One of the property names in your query is not available in the database, make sure you didn't misspell it or that the label is available when you run this statement in your application (the missing property name is: rating)} {position: line: 2, column: 21, offset: 92} for query: \"MATCH (h:Hotel {name: 'The Creek Hotel'})<-[:has_reviewer]-(r:Reviewer)\\nRETURN r ORDER BY r.rating DESC LIMIT 1\"\n"
          ]
        },
        {
          "name": "stdout",
          "output_type": "stream",
          "text": [
            "[]\n"
          ]
        }
      ],
      "source": [
        "import json\n",
        "uri = os.getenv(\"NEO4J_URI\")\n",
        "\n",
        "url = \"neo4j+s://{}.databases.neo4j.io\".format(uri)\n",
        "\n",
        "neo4j_username = os.getenv(\"NEO4J_USERNAME\")\n",
        "neo4j_password = os.getenv(\"NEO4J_PASSWORD\")\n",
        "\n",
        "driver = GraphDatabase.driver(url, auth=(neo4j_username, neo4j_password))\n",
        "with driver.session() as session:\n",
        "        # Run the Cypher query\n",
        "        result = session.run(cypher_query_for_retrieval)\n",
        "\n",
        "        # Extract and print results\n",
        "        records = [record.data() for record in result]\n",
        "        print(records)"
      ]
    },
    {
      "cell_type": "markdown",
      "metadata": {
        "id": "Gu8oNYIRp1od"
      },
      "source": [
        "![WhatsApp%20Image%202025-01-08%20at%2020.49.51_a90c1830.jpg](attachment:WhatsApp%20Image%202025-01-08%20at%2020.49.51_a90c1830.jpg)"
      ]
    },
    {
      "cell_type": "markdown",
      "metadata": {
        "id": "IjEErlj0p1od"
      },
      "source": [
        "![image.png](attachment:image.png)"
      ]
    },
    {
      "cell_type": "markdown",
      "metadata": {
        "id": "uLEOHiNap1od"
      },
      "source": [
        "![image.png](attachment:image.png)"
      ]
    },
    {
      "cell_type": "markdown",
      "metadata": {
        "id": "x8EK3O4Qp1oe"
      },
      "source": [
        "### Sending a final call to GPT engine for summarisation"
      ]
    },
    {
      "cell_type": "code",
      "execution_count": null,
      "metadata": {
        "id": "9-EtEWzAp1oe",
        "outputId": "9d01b74f-442c-41f0-a3c5-e3160a8574bd"
      },
      "outputs": [
        {
          "name": "stdout",
          "output_type": "stream",
          "text": [
            "It seems that there are no results from the database for your query about which customer has given the best review for Creek Hotel. This could mean that either there are no reviews recorded for that hotel or the data hasn't been updated yet.\n",
            "\n",
            "If you have any other questions or need information on something else, feel free to ask!\n"
          ]
        }
      ],
      "source": [
        "final_system_prompt = f\"\"\"\" you are an assistant made to help people. You will be provided with the results of\n",
        "a cypher query that returns data from a neo4j database. The results are in the form of list with each object inside\n",
        "the list containing the final result. Answer the user query in a friendly and an easy to understand manner.\n",
        "\n",
        "Note that you will be provided with both the user query that triggered the result and the result itself.\"\"\"\n",
        "\n",
        "final_user_prompt = f\"\"\"Answer the user query using the results of the cypher query provided below.\n",
        "user_query = {user_query}\n",
        "result = {records}\"\"\"\n",
        "\n",
        "final_answer = azure_openai_client.chat.completions.create(\n",
        "    model = os.getenv(\"GPT_ENGINE\"),\n",
        "    messages = [\n",
        "        {\"role\": \"system\", \"content\": final_system_prompt},\n",
        "        {\"role\": \"user\", \"content\": final_user_prompt}\n",
        "    ],\n",
        "    temperature=0.7\n",
        ")\n",
        "\n",
        "print(final_answer.choices[0].message.content)"
      ]
    },
    {
      "cell_type": "markdown",
      "metadata": {
        "id": "KUa-I712p1og"
      },
      "source": [
        "![WhatsApp%20Image%202025-01-08%20at%2020.49.51_6e4d9975.jpg](attachment:WhatsApp%20Image%202025-01-08%20at%2020.49.51_6e4d9975.jpg)"
      ]
    },
    {
      "cell_type": "code",
      "execution_count": null,
      "metadata": {
        "id": "adQeO5BZp1og"
      },
      "outputs": [],
      "source": []
    }
  ]
}