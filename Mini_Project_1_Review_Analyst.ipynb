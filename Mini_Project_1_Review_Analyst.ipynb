{
  "nbformat": 4,
  "nbformat_minor": 0,
  "metadata": {
    "colab": {
      "provenance": [],
      "authorship_tag": "ABX9TyMBm/xwSpGdMyMHTrxRhmAA",
      "include_colab_link": true
    },
    "kernelspec": {
      "name": "python3",
      "display_name": "Python 3"
    },
    "language_info": {
      "name": "python"
    }
  },
  "cells": [
    {
      "cell_type": "markdown",
      "metadata": {
        "id": "view-in-github",
        "colab_type": "text"
      },
      "source": [
        "<a href=\"https://colab.research.google.com/github/Janani-SB/GenAI_projects-/blob/main/Mini_Project_1_Review_Analyst.ipynb\" target=\"_parent\"><img src=\"https://colab.research.google.com/assets/colab-badge.svg\" alt=\"Open In Colab\"/></a>"
      ]
    },
    {
      "cell_type": "markdown",
      "source": [
        "# Project: Prompt Engineering with LangChain and ChatGPT for real-world tasks\n",
        "\n",
        "In this notebook you will leverage ChatGPT and LangChain to solve and do a few mini-projects based on some real-world scenarios:\n",
        "\n",
        "- Mini-Project 1: Review Analyst\n",
        "- Mini-Project 2: Research Paper Analyst\n",
        "- Mini-Project 3: Social Media Marketing Analyst\n",
        "- Mini-Project 4: IT Support Analyst\n"
      ],
      "metadata": {
        "id": "P6q7cTx49mTC"
      }
    },
    {
      "cell_type": "markdown",
      "source": [
        "# **Mini-Project 1: Review Analyst**\n",
        "\n",
        "You are building an AI system to be able to look at customer reviews and do some complex analysis. for each review get ChatGPT to do the following:\n",
        "\n",
        "-- Summarize the review. The summary should be at most 3 lines.\n",
        "-- Highlight both the positives and negatives\n",
        "-- Display the overall sentiment of the review (positive, negative, neutral)\n",
        "-- Display a list of 3 - 5 emotions expressed by the customer in the review\n",
        "-- If the sentiment is positive or neutral\n",
        " write an email and thank them for the review\n",
        "--If the sentiment is negative apologize and write an email with an appropriate response\n",
        "--Try to get the response in a nice structured format using an output parser"
      ],
      "metadata": {
        "id": "2I7ws6H9zVVb"
      }
    },
    {
      "cell_type": "markdown",
      "source": [
        "#Tech stack summary\n",
        "•\tUsed LangChain, PydanticOutputParser, and OpenAI ChatGPT to summarize customer reviews, extract pros/cons, emotions, and sentiment.\n",
        "•\tImplemented conditional email generation based on sentiment analysis using LCEL chaining.\n",
        "•\tStructured the entire response pipeline using PromptTemplate → LLM → Structured Output.\n"
      ],
      "metadata": {
        "id": "uIqtWSN3uSYb"
      }
    },
    {
      "cell_type": "code",
      "source": [
        "!pip install langchain\n",
        "!pip install langchain-openai\n",
        "!pip install langchain-community"
      ],
      "metadata": {
        "colab": {
          "base_uri": "https://localhost:8080/"
        },
        "id": "Kb3AOkaI1vie",
        "outputId": "c7331bc0-4aad-4f07-c849-86c23d908b41"
      },
      "execution_count": null,
      "outputs": [
        {
          "output_type": "stream",
          "name": "stdout",
          "text": [
            "Requirement already satisfied: langchain in /usr/local/lib/python3.11/dist-packages (0.3.25)\n",
            "Requirement already satisfied: langchain-core<1.0.0,>=0.3.58 in /usr/local/lib/python3.11/dist-packages (from langchain) (0.3.65)\n",
            "Requirement already satisfied: langchain-text-splitters<1.0.0,>=0.3.8 in /usr/local/lib/python3.11/dist-packages (from langchain) (0.3.8)\n",
            "Requirement already satisfied: langsmith<0.4,>=0.1.17 in /usr/local/lib/python3.11/dist-packages (from langchain) (0.3.45)\n",
            "Requirement already satisfied: pydantic<3.0.0,>=2.7.4 in /usr/local/lib/python3.11/dist-packages (from langchain) (2.11.5)\n",
            "Requirement already satisfied: SQLAlchemy<3,>=1.4 in /usr/local/lib/python3.11/dist-packages (from langchain) (2.0.41)\n",
            "Requirement already satisfied: requests<3,>=2 in /usr/local/lib/python3.11/dist-packages (from langchain) (2.32.3)\n",
            "Requirement already satisfied: PyYAML>=5.3 in /usr/local/lib/python3.11/dist-packages (from langchain) (6.0.2)\n",
            "Requirement already satisfied: tenacity!=8.4.0,<10.0.0,>=8.1.0 in /usr/local/lib/python3.11/dist-packages (from langchain-core<1.0.0,>=0.3.58->langchain) (9.1.2)\n",
            "Requirement already satisfied: jsonpatch<2.0,>=1.33 in /usr/local/lib/python3.11/dist-packages (from langchain-core<1.0.0,>=0.3.58->langchain) (1.33)\n",
            "Requirement already satisfied: packaging<25,>=23.2 in /usr/local/lib/python3.11/dist-packages (from langchain-core<1.0.0,>=0.3.58->langchain) (24.2)\n",
            "Requirement already satisfied: typing-extensions>=4.7 in /usr/local/lib/python3.11/dist-packages (from langchain-core<1.0.0,>=0.3.58->langchain) (4.14.0)\n",
            "Requirement already satisfied: httpx<1,>=0.23.0 in /usr/local/lib/python3.11/dist-packages (from langsmith<0.4,>=0.1.17->langchain) (0.28.1)\n",
            "Requirement already satisfied: orjson<4.0.0,>=3.9.14 in /usr/local/lib/python3.11/dist-packages (from langsmith<0.4,>=0.1.17->langchain) (3.10.18)\n",
            "Requirement already satisfied: requests-toolbelt<2.0.0,>=1.0.0 in /usr/local/lib/python3.11/dist-packages (from langsmith<0.4,>=0.1.17->langchain) (1.0.0)\n",
            "Requirement already satisfied: zstandard<0.24.0,>=0.23.0 in /usr/local/lib/python3.11/dist-packages (from langsmith<0.4,>=0.1.17->langchain) (0.23.0)\n",
            "Requirement already satisfied: annotated-types>=0.6.0 in /usr/local/lib/python3.11/dist-packages (from pydantic<3.0.0,>=2.7.4->langchain) (0.7.0)\n",
            "Requirement already satisfied: pydantic-core==2.33.2 in /usr/local/lib/python3.11/dist-packages (from pydantic<3.0.0,>=2.7.4->langchain) (2.33.2)\n",
            "Requirement already satisfied: typing-inspection>=0.4.0 in /usr/local/lib/python3.11/dist-packages (from pydantic<3.0.0,>=2.7.4->langchain) (0.4.1)\n",
            "Requirement already satisfied: charset-normalizer<4,>=2 in /usr/local/lib/python3.11/dist-packages (from requests<3,>=2->langchain) (3.4.2)\n",
            "Requirement already satisfied: idna<4,>=2.5 in /usr/local/lib/python3.11/dist-packages (from requests<3,>=2->langchain) (3.10)\n",
            "Requirement already satisfied: urllib3<3,>=1.21.1 in /usr/local/lib/python3.11/dist-packages (from requests<3,>=2->langchain) (2.4.0)\n",
            "Requirement already satisfied: certifi>=2017.4.17 in /usr/local/lib/python3.11/dist-packages (from requests<3,>=2->langchain) (2025.4.26)\n",
            "Requirement already satisfied: greenlet>=1 in /usr/local/lib/python3.11/dist-packages (from SQLAlchemy<3,>=1.4->langchain) (3.2.3)\n",
            "Requirement already satisfied: anyio in /usr/local/lib/python3.11/dist-packages (from httpx<1,>=0.23.0->langsmith<0.4,>=0.1.17->langchain) (4.9.0)\n",
            "Requirement already satisfied: httpcore==1.* in /usr/local/lib/python3.11/dist-packages (from httpx<1,>=0.23.0->langsmith<0.4,>=0.1.17->langchain) (1.0.9)\n",
            "Requirement already satisfied: h11>=0.16 in /usr/local/lib/python3.11/dist-packages (from httpcore==1.*->httpx<1,>=0.23.0->langsmith<0.4,>=0.1.17->langchain) (0.16.0)\n",
            "Requirement already satisfied: jsonpointer>=1.9 in /usr/local/lib/python3.11/dist-packages (from jsonpatch<2.0,>=1.33->langchain-core<1.0.0,>=0.3.58->langchain) (3.0.0)\n",
            "Requirement already satisfied: sniffio>=1.1 in /usr/local/lib/python3.11/dist-packages (from anyio->httpx<1,>=0.23.0->langsmith<0.4,>=0.1.17->langchain) (1.3.1)\n",
            "Requirement already satisfied: langchain-openai in /usr/local/lib/python3.11/dist-packages (0.3.23)\n",
            "Requirement already satisfied: langchain-core<1.0.0,>=0.3.65 in /usr/local/lib/python3.11/dist-packages (from langchain-openai) (0.3.65)\n",
            "Requirement already satisfied: openai<2.0.0,>=1.68.2 in /usr/local/lib/python3.11/dist-packages (from langchain-openai) (1.86.0)\n",
            "Requirement already satisfied: tiktoken<1,>=0.7 in /usr/local/lib/python3.11/dist-packages (from langchain-openai) (0.9.0)\n",
            "Requirement already satisfied: langsmith<0.4,>=0.3.45 in /usr/local/lib/python3.11/dist-packages (from langchain-core<1.0.0,>=0.3.65->langchain-openai) (0.3.45)\n",
            "Requirement already satisfied: tenacity!=8.4.0,<10.0.0,>=8.1.0 in /usr/local/lib/python3.11/dist-packages (from langchain-core<1.0.0,>=0.3.65->langchain-openai) (9.1.2)\n",
            "Requirement already satisfied: jsonpatch<2.0,>=1.33 in /usr/local/lib/python3.11/dist-packages (from langchain-core<1.0.0,>=0.3.65->langchain-openai) (1.33)\n",
            "Requirement already satisfied: PyYAML>=5.3 in /usr/local/lib/python3.11/dist-packages (from langchain-core<1.0.0,>=0.3.65->langchain-openai) (6.0.2)\n",
            "Requirement already satisfied: packaging<25,>=23.2 in /usr/local/lib/python3.11/dist-packages (from langchain-core<1.0.0,>=0.3.65->langchain-openai) (24.2)\n",
            "Requirement already satisfied: typing-extensions>=4.7 in /usr/local/lib/python3.11/dist-packages (from langchain-core<1.0.0,>=0.3.65->langchain-openai) (4.14.0)\n",
            "Requirement already satisfied: pydantic>=2.7.4 in /usr/local/lib/python3.11/dist-packages (from langchain-core<1.0.0,>=0.3.65->langchain-openai) (2.11.5)\n",
            "Requirement already satisfied: anyio<5,>=3.5.0 in /usr/local/lib/python3.11/dist-packages (from openai<2.0.0,>=1.68.2->langchain-openai) (4.9.0)\n",
            "Requirement already satisfied: distro<2,>=1.7.0 in /usr/local/lib/python3.11/dist-packages (from openai<2.0.0,>=1.68.2->langchain-openai) (1.9.0)\n",
            "Requirement already satisfied: httpx<1,>=0.23.0 in /usr/local/lib/python3.11/dist-packages (from openai<2.0.0,>=1.68.2->langchain-openai) (0.28.1)\n",
            "Requirement already satisfied: jiter<1,>=0.4.0 in /usr/local/lib/python3.11/dist-packages (from openai<2.0.0,>=1.68.2->langchain-openai) (0.10.0)\n",
            "Requirement already satisfied: sniffio in /usr/local/lib/python3.11/dist-packages (from openai<2.0.0,>=1.68.2->langchain-openai) (1.3.1)\n",
            "Requirement already satisfied: tqdm>4 in /usr/local/lib/python3.11/dist-packages (from openai<2.0.0,>=1.68.2->langchain-openai) (4.67.1)\n",
            "Requirement already satisfied: regex>=2022.1.18 in /usr/local/lib/python3.11/dist-packages (from tiktoken<1,>=0.7->langchain-openai) (2024.11.6)\n",
            "Requirement already satisfied: requests>=2.26.0 in /usr/local/lib/python3.11/dist-packages (from tiktoken<1,>=0.7->langchain-openai) (2.32.3)\n",
            "Requirement already satisfied: idna>=2.8 in /usr/local/lib/python3.11/dist-packages (from anyio<5,>=3.5.0->openai<2.0.0,>=1.68.2->langchain-openai) (3.10)\n",
            "Requirement already satisfied: certifi in /usr/local/lib/python3.11/dist-packages (from httpx<1,>=0.23.0->openai<2.0.0,>=1.68.2->langchain-openai) (2025.4.26)\n",
            "Requirement already satisfied: httpcore==1.* in /usr/local/lib/python3.11/dist-packages (from httpx<1,>=0.23.0->openai<2.0.0,>=1.68.2->langchain-openai) (1.0.9)\n",
            "Requirement already satisfied: h11>=0.16 in /usr/local/lib/python3.11/dist-packages (from httpcore==1.*->httpx<1,>=0.23.0->openai<2.0.0,>=1.68.2->langchain-openai) (0.16.0)\n",
            "Requirement already satisfied: jsonpointer>=1.9 in /usr/local/lib/python3.11/dist-packages (from jsonpatch<2.0,>=1.33->langchain-core<1.0.0,>=0.3.65->langchain-openai) (3.0.0)\n",
            "Requirement already satisfied: orjson<4.0.0,>=3.9.14 in /usr/local/lib/python3.11/dist-packages (from langsmith<0.4,>=0.3.45->langchain-core<1.0.0,>=0.3.65->langchain-openai) (3.10.18)\n",
            "Requirement already satisfied: requests-toolbelt<2.0.0,>=1.0.0 in /usr/local/lib/python3.11/dist-packages (from langsmith<0.4,>=0.3.45->langchain-core<1.0.0,>=0.3.65->langchain-openai) (1.0.0)\n",
            "Requirement already satisfied: zstandard<0.24.0,>=0.23.0 in /usr/local/lib/python3.11/dist-packages (from langsmith<0.4,>=0.3.45->langchain-core<1.0.0,>=0.3.65->langchain-openai) (0.23.0)\n",
            "Requirement already satisfied: annotated-types>=0.6.0 in /usr/local/lib/python3.11/dist-packages (from pydantic>=2.7.4->langchain-core<1.0.0,>=0.3.65->langchain-openai) (0.7.0)\n",
            "Requirement already satisfied: pydantic-core==2.33.2 in /usr/local/lib/python3.11/dist-packages (from pydantic>=2.7.4->langchain-core<1.0.0,>=0.3.65->langchain-openai) (2.33.2)\n",
            "Requirement already satisfied: typing-inspection>=0.4.0 in /usr/local/lib/python3.11/dist-packages (from pydantic>=2.7.4->langchain-core<1.0.0,>=0.3.65->langchain-openai) (0.4.1)\n",
            "Requirement already satisfied: charset-normalizer<4,>=2 in /usr/local/lib/python3.11/dist-packages (from requests>=2.26.0->tiktoken<1,>=0.7->langchain-openai) (3.4.2)\n",
            "Requirement already satisfied: urllib3<3,>=1.21.1 in /usr/local/lib/python3.11/dist-packages (from requests>=2.26.0->tiktoken<1,>=0.7->langchain-openai) (2.4.0)\n",
            "Collecting langchain-community\n",
            "  Downloading langchain_community-0.3.25-py3-none-any.whl.metadata (2.9 kB)\n",
            "Requirement already satisfied: langchain-core<1.0.0,>=0.3.65 in /usr/local/lib/python3.11/dist-packages (from langchain-community) (0.3.65)\n",
            "Requirement already satisfied: langchain<1.0.0,>=0.3.25 in /usr/local/lib/python3.11/dist-packages (from langchain-community) (0.3.25)\n",
            "Requirement already satisfied: SQLAlchemy<3,>=1.4 in /usr/local/lib/python3.11/dist-packages (from langchain-community) (2.0.41)\n",
            "Requirement already satisfied: requests<3,>=2 in /usr/local/lib/python3.11/dist-packages (from langchain-community) (2.32.3)\n",
            "Requirement already satisfied: PyYAML>=5.3 in /usr/local/lib/python3.11/dist-packages (from langchain-community) (6.0.2)\n",
            "Requirement already satisfied: aiohttp<4.0.0,>=3.8.3 in /usr/local/lib/python3.11/dist-packages (from langchain-community) (3.11.15)\n",
            "Requirement already satisfied: tenacity!=8.4.0,<10,>=8.1.0 in /usr/local/lib/python3.11/dist-packages (from langchain-community) (9.1.2)\n",
            "Collecting dataclasses-json<0.7,>=0.5.7 (from langchain-community)\n",
            "  Downloading dataclasses_json-0.6.7-py3-none-any.whl.metadata (25 kB)\n",
            "Collecting pydantic-settings<3.0.0,>=2.4.0 (from langchain-community)\n",
            "  Downloading pydantic_settings-2.9.1-py3-none-any.whl.metadata (3.8 kB)\n",
            "Requirement already satisfied: langsmith<0.4,>=0.1.125 in /usr/local/lib/python3.11/dist-packages (from langchain-community) (0.3.45)\n",
            "Collecting httpx-sse<1.0.0,>=0.4.0 (from langchain-community)\n",
            "  Downloading httpx_sse-0.4.0-py3-none-any.whl.metadata (9.0 kB)\n",
            "Requirement already satisfied: numpy>=1.26.2 in /usr/local/lib/python3.11/dist-packages (from langchain-community) (2.0.2)\n",
            "Requirement already satisfied: aiohappyeyeballs>=2.3.0 in /usr/local/lib/python3.11/dist-packages (from aiohttp<4.0.0,>=3.8.3->langchain-community) (2.6.1)\n",
            "Requirement already satisfied: aiosignal>=1.1.2 in /usr/local/lib/python3.11/dist-packages (from aiohttp<4.0.0,>=3.8.3->langchain-community) (1.3.2)\n",
            "Requirement already satisfied: attrs>=17.3.0 in /usr/local/lib/python3.11/dist-packages (from aiohttp<4.0.0,>=3.8.3->langchain-community) (25.3.0)\n",
            "Requirement already satisfied: frozenlist>=1.1.1 in /usr/local/lib/python3.11/dist-packages (from aiohttp<4.0.0,>=3.8.3->langchain-community) (1.7.0)\n",
            "Requirement already satisfied: multidict<7.0,>=4.5 in /usr/local/lib/python3.11/dist-packages (from aiohttp<4.0.0,>=3.8.3->langchain-community) (6.4.4)\n",
            "Requirement already satisfied: propcache>=0.2.0 in /usr/local/lib/python3.11/dist-packages (from aiohttp<4.0.0,>=3.8.3->langchain-community) (0.3.2)\n",
            "Requirement already satisfied: yarl<2.0,>=1.17.0 in /usr/local/lib/python3.11/dist-packages (from aiohttp<4.0.0,>=3.8.3->langchain-community) (1.20.1)\n",
            "Collecting marshmallow<4.0.0,>=3.18.0 (from dataclasses-json<0.7,>=0.5.7->langchain-community)\n",
            "  Downloading marshmallow-3.26.1-py3-none-any.whl.metadata (7.3 kB)\n",
            "Collecting typing-inspect<1,>=0.4.0 (from dataclasses-json<0.7,>=0.5.7->langchain-community)\n",
            "  Downloading typing_inspect-0.9.0-py3-none-any.whl.metadata (1.5 kB)\n",
            "Requirement already satisfied: langchain-text-splitters<1.0.0,>=0.3.8 in /usr/local/lib/python3.11/dist-packages (from langchain<1.0.0,>=0.3.25->langchain-community) (0.3.8)\n",
            "Requirement already satisfied: pydantic<3.0.0,>=2.7.4 in /usr/local/lib/python3.11/dist-packages (from langchain<1.0.0,>=0.3.25->langchain-community) (2.11.5)\n",
            "Requirement already satisfied: jsonpatch<2.0,>=1.33 in /usr/local/lib/python3.11/dist-packages (from langchain-core<1.0.0,>=0.3.65->langchain-community) (1.33)\n",
            "Requirement already satisfied: packaging<25,>=23.2 in /usr/local/lib/python3.11/dist-packages (from langchain-core<1.0.0,>=0.3.65->langchain-community) (24.2)\n",
            "Requirement already satisfied: typing-extensions>=4.7 in /usr/local/lib/python3.11/dist-packages (from langchain-core<1.0.0,>=0.3.65->langchain-community) (4.14.0)\n",
            "Requirement already satisfied: httpx<1,>=0.23.0 in /usr/local/lib/python3.11/dist-packages (from langsmith<0.4,>=0.1.125->langchain-community) (0.28.1)\n",
            "Requirement already satisfied: orjson<4.0.0,>=3.9.14 in /usr/local/lib/python3.11/dist-packages (from langsmith<0.4,>=0.1.125->langchain-community) (3.10.18)\n",
            "Requirement already satisfied: requests-toolbelt<2.0.0,>=1.0.0 in /usr/local/lib/python3.11/dist-packages (from langsmith<0.4,>=0.1.125->langchain-community) (1.0.0)\n",
            "Requirement already satisfied: zstandard<0.24.0,>=0.23.0 in /usr/local/lib/python3.11/dist-packages (from langsmith<0.4,>=0.1.125->langchain-community) (0.23.0)\n",
            "Collecting python-dotenv>=0.21.0 (from pydantic-settings<3.0.0,>=2.4.0->langchain-community)\n",
            "  Downloading python_dotenv-1.1.0-py3-none-any.whl.metadata (24 kB)\n",
            "Requirement already satisfied: typing-inspection>=0.4.0 in /usr/local/lib/python3.11/dist-packages (from pydantic-settings<3.0.0,>=2.4.0->langchain-community) (0.4.1)\n",
            "Requirement already satisfied: charset-normalizer<4,>=2 in /usr/local/lib/python3.11/dist-packages (from requests<3,>=2->langchain-community) (3.4.2)\n",
            "Requirement already satisfied: idna<4,>=2.5 in /usr/local/lib/python3.11/dist-packages (from requests<3,>=2->langchain-community) (3.10)\n",
            "Requirement already satisfied: urllib3<3,>=1.21.1 in /usr/local/lib/python3.11/dist-packages (from requests<3,>=2->langchain-community) (2.4.0)\n",
            "Requirement already satisfied: certifi>=2017.4.17 in /usr/local/lib/python3.11/dist-packages (from requests<3,>=2->langchain-community) (2025.4.26)\n",
            "Requirement already satisfied: greenlet>=1 in /usr/local/lib/python3.11/dist-packages (from SQLAlchemy<3,>=1.4->langchain-community) (3.2.3)\n",
            "Requirement already satisfied: anyio in /usr/local/lib/python3.11/dist-packages (from httpx<1,>=0.23.0->langsmith<0.4,>=0.1.125->langchain-community) (4.9.0)\n",
            "Requirement already satisfied: httpcore==1.* in /usr/local/lib/python3.11/dist-packages (from httpx<1,>=0.23.0->langsmith<0.4,>=0.1.125->langchain-community) (1.0.9)\n",
            "Requirement already satisfied: h11>=0.16 in /usr/local/lib/python3.11/dist-packages (from httpcore==1.*->httpx<1,>=0.23.0->langsmith<0.4,>=0.1.125->langchain-community) (0.16.0)\n",
            "Requirement already satisfied: jsonpointer>=1.9 in /usr/local/lib/python3.11/dist-packages (from jsonpatch<2.0,>=1.33->langchain-core<1.0.0,>=0.3.65->langchain-community) (3.0.0)\n",
            "Requirement already satisfied: annotated-types>=0.6.0 in /usr/local/lib/python3.11/dist-packages (from pydantic<3.0.0,>=2.7.4->langchain<1.0.0,>=0.3.25->langchain-community) (0.7.0)\n",
            "Requirement already satisfied: pydantic-core==2.33.2 in /usr/local/lib/python3.11/dist-packages (from pydantic<3.0.0,>=2.7.4->langchain<1.0.0,>=0.3.25->langchain-community) (2.33.2)\n",
            "Collecting mypy-extensions>=0.3.0 (from typing-inspect<1,>=0.4.0->dataclasses-json<0.7,>=0.5.7->langchain-community)\n",
            "  Downloading mypy_extensions-1.1.0-py3-none-any.whl.metadata (1.1 kB)\n",
            "Requirement already satisfied: sniffio>=1.1 in /usr/local/lib/python3.11/dist-packages (from anyio->httpx<1,>=0.23.0->langsmith<0.4,>=0.1.125->langchain-community) (1.3.1)\n",
            "Downloading langchain_community-0.3.25-py3-none-any.whl (2.5 MB)\n",
            "\u001b[2K   \u001b[90m━━━━━━━━━━━━━━━━━━━━━━━━━━━━━━━━━━━━━━━━\u001b[0m \u001b[32m2.5/2.5 MB\u001b[0m \u001b[31m29.6 MB/s\u001b[0m eta \u001b[36m0:00:00\u001b[0m\n",
            "\u001b[?25hDownloading dataclasses_json-0.6.7-py3-none-any.whl (28 kB)\n",
            "Downloading httpx_sse-0.4.0-py3-none-any.whl (7.8 kB)\n",
            "Downloading pydantic_settings-2.9.1-py3-none-any.whl (44 kB)\n",
            "\u001b[2K   \u001b[90m━━━━━━━━━━━━━━━━━━━━━━━━━━━━━━━━━━━━━━━━\u001b[0m \u001b[32m44.4/44.4 kB\u001b[0m \u001b[31m3.1 MB/s\u001b[0m eta \u001b[36m0:00:00\u001b[0m\n",
            "\u001b[?25hDownloading marshmallow-3.26.1-py3-none-any.whl (50 kB)\n",
            "\u001b[2K   \u001b[90m━━━━━━━━━━━━━━━━━━━━━━━━━━━━━━━━━━━━━━━━\u001b[0m \u001b[32m50.9/50.9 kB\u001b[0m \u001b[31m3.8 MB/s\u001b[0m eta \u001b[36m0:00:00\u001b[0m\n",
            "\u001b[?25hDownloading python_dotenv-1.1.0-py3-none-any.whl (20 kB)\n",
            "Downloading typing_inspect-0.9.0-py3-none-any.whl (8.8 kB)\n",
            "Downloading mypy_extensions-1.1.0-py3-none-any.whl (5.0 kB)\n",
            "Installing collected packages: python-dotenv, mypy-extensions, marshmallow, httpx-sse, typing-inspect, pydantic-settings, dataclasses-json, langchain-community\n",
            "Successfully installed dataclasses-json-0.6.7 httpx-sse-0.4.0 langchain-community-0.3.25 marshmallow-3.26.1 mypy-extensions-1.1.0 pydantic-settings-2.9.1 python-dotenv-1.1.0 typing-inspect-0.9.0\n"
          ]
        }
      ]
    },
    {
      "cell_type": "code",
      "source": [
        "# Enter the API Tokens\n",
        "from getpass import getpass\n",
        "OPENAI_KEY = getpass(\"Please enter your OPEN AI API Key here :\")"
      ],
      "metadata": {
        "colab": {
          "base_uri": "https://localhost:8080/"
        },
        "id": "lGgte3VP2J-Y",
        "outputId": "594abbdd-cec6-4377-b2d5-9dede8994a3b"
      },
      "execution_count": null,
      "outputs": [
        {
          "name": "stdout",
          "output_type": "stream",
          "text": [
            "Please enter your OPEN AI API Key here :··········\n"
          ]
        }
      ]
    },
    {
      "cell_type": "code",
      "source": [
        "import os\n",
        "os.environ[\"OPENAI_API_KEY\"] = OPENAI_KEY"
      ],
      "metadata": {
        "id": "yPh9CT8l2Vxl"
      },
      "execution_count": null,
      "outputs": []
    },
    {
      "cell_type": "code",
      "source": [
        "from langchain_openai import ChatOpenAI\n",
        "chatgpt = ChatOpenAI(model_name=\"gpt-4\", temperature=0.9)"
      ],
      "metadata": {
        "id": "EsuQjXw21sVb"
      },
      "execution_count": null,
      "outputs": []
    },
    {
      "cell_type": "markdown",
      "source": [
        "#Access Customer Reviews"
      ],
      "metadata": {
        "id": "ZbqFNi7Hz-g6"
      }
    },
    {
      "cell_type": "code",
      "source": [
        "reviews = [\n",
        "    f\"\"\"\n",
        "    Just received the Bluetooth speaker I ordered for beach outings, and it's fantastic.\n",
        "    The sound quality is impressively clear with just the right amount of bass.\n",
        "    It's also waterproof, which tested true during a recent splashing incident.\n",
        "    Though it's compact, the volume can really fill the space.\n",
        "    The price was a bargain for such high-quality sound.\n",
        "    Shipping was also on point, arriving two days early in secure packaging.\n",
        "    \"\"\",\n",
        "    f\"\"\"\n",
        "    Purchased a new gaming keyboard because of its rave reviews about responsiveness and backlighting.\n",
        "    It hasn't disappointed. The keys have a satisfying click and the LED colors are vibrant,\n",
        "    enhancing my gaming experience significantly. Price-wise, it's quite competitive,\n",
        "    and I feel like I got a good deal. The delivery was swift, and it came well-protected,\n",
        "    ensuring no damage during transport.\n",
        "    \"\"\",\n",
        "    f\"\"\"\n",
        "    Ordered a set of wireless earbuds for running, and they've been a letdown.\n",
        "    The sound constantly cuts out, and the fit is uncomfortable after only a few minutes of use.\n",
        "    They advertised a 12-hour battery life, but I'm barely getting four hours.\n",
        "    Considering the cost, I expected better quality and performance.\n",
        "    They did arrive on time, but the positives end there. I'm already looking into a return.\n",
        "    \"\"\",\n",
        "    f\"\"\"\n",
        "    The tablet stand I bought was touted as being sturdy and adjustable,\n",
        "    but it's anything but. It wobbles with the slightest touch,\n",
        "    and the angles are not holding up as promised. It feels like a breeze could knock it over.\n",
        "    It was also pricier than others I've seen, which adds to the disappointment.\n",
        "    It did arrive promptly, but what's the use if the product doesn't meet basic expectations?\n",
        "    \"\"\",\n",
        "    f\"\"\"\n",
        "    Needed a new kitchen blender, but this model has been a nightmare.\n",
        "    It's supposed to handle various foods, but it struggles with anything tougher than cooked vegetables.\n",
        "    It's also incredibly noisy, and the 'easy-clean' feature is a joke; food gets stuck under the blades constantly.\n",
        "    I thought the brand meant quality, but this product has proven me wrong.\n",
        "    Plus, it arrived three days late. Definitely not worth the expense.\n",
        "    \"\"\"\n",
        "]"
      ],
      "metadata": {
        "id": "MDMZfaqJ0DYh"
      },
      "execution_count": null,
      "outputs": []
    },
    {
      "cell_type": "markdown",
      "source": [
        "# Define Output Parser basis the problem statement"
      ],
      "metadata": {
        "id": "Et_AdSvO0YN7"
      }
    },
    {
      "cell_type": "code",
      "source": [
        "from langchain_core.prompts import PromptTemplate\n",
        "from langchain_core.output_parsers import PydanticOutputParser\n",
        "from pydantic import BaseModel, Field\n",
        "\n",
        "class ReviewAnalysisResponse(BaseModel):\n",
        "    summary: str = Field(description=\"A brief summary of the customer review with maximum 3 lines.\")\n",
        "    positive: list = Field(description=\"A list showing the positives mentioned by the customer in the review if any - max 3 points\")\n",
        "    negative: list = Field(description=\"A list showing the negatives mentioned by the customer in the review if any - max 3 points\")\n",
        "    sentiment: str = Field(description=\"One word showing the sentiment of the review - positive, negative or neutral\")\n",
        "    emotions: list = Field(description=\"A list of 3 - 5 emotions expressed by the customer in the review\")\n",
        "    email: str = Field(description=\"Detailed email to the customer based on the sentiment\")\n",
        "\n",
        "parser = PydanticOutputParser(pydantic_object=ReviewAnalysisResponse)\n",
        "parser"
      ],
      "metadata": {
        "colab": {
          "base_uri": "https://localhost:8080/"
        },
        "id": "HaBGUak40gB0",
        "outputId": "a3d0bbba-a14e-4fda-b23a-1c2fea24bf79"
      },
      "execution_count": null,
      "outputs": [
        {
          "output_type": "execute_result",
          "data": {
            "text/plain": [
              "PydanticOutputParser(pydantic_object=<class '__main__.ReviewAnalysisResponse'>)"
            ]
          },
          "metadata": {},
          "execution_count": 2
        }
      ]
    },
    {
      "cell_type": "markdown",
      "source": [
        "# Create the input prompt for the LLM"
      ],
      "metadata": {
        "id": "RLwvt46I0kor"
      }
    },
    {
      "cell_type": "code",
      "source": [
        "prompt_txt = \"\"\"\n",
        "Analyze the given customer review below and generate the response based on the instructions\n",
        "mentioned below in the format instruction.\n",
        "Also remember to write a detailed email response for the email field based on these conditions:\n",
        "     - email should be addressed to Dear Customer and signed with Service Agent\n",
        "     - thank them if the review is positive or neutral\n",
        "     - apologize if the review is negative\n",
        "\n",
        "     Format Instructions: {format_instructions}\n",
        "\n",
        "     Review: {review}\n",
        "\"\"\"\n",
        "\n",
        "prompt = PromptTemplate(template = prompt_txt, input_variables = [\"review\"],\n",
        "                        partial_variables = {\"format_instructions\":parser.get_format_instructions()},)"
      ],
      "metadata": {
        "id": "XSIToIab0mma"
      },
      "execution_count": null,
      "outputs": []
    },
    {
      "cell_type": "code",
      "source": [
        "prompt"
      ],
      "metadata": {
        "colab": {
          "base_uri": "https://localhost:8080/"
        },
        "id": "_w6wXjKu0y7R",
        "outputId": "4ee93e55-9763-4f47-af02-0cb2c1942945"
      },
      "execution_count": null,
      "outputs": [
        {
          "output_type": "execute_result",
          "data": {
            "text/plain": [
              "PromptTemplate(input_variables=['review'], input_types={}, partial_variables={'format_instructions': 'The output should be formatted as a JSON instance that conforms to the JSON schema below.\\n\\nAs an example, for the schema {\"properties\": {\"foo\": {\"title\": \"Foo\", \"description\": \"a list of strings\", \"type\": \"array\", \"items\": {\"type\": \"string\"}}}, \"required\": [\"foo\"]}\\nthe object {\"foo\": [\"bar\", \"baz\"]} is a well-formatted instance of the schema. The object {\"properties\": {\"foo\": [\"bar\", \"baz\"]}} is not well-formatted.\\n\\nHere is the output schema:\\n```\\n{\"properties\": {\"summary\": {\"description\": \"A brief summary of the customer review with maximum 3 lines.\", \"title\": \"Summary\", \"type\": \"string\"}, \"positive\": {\"description\": \"A list showing the positives mentioned by the customer in the review if any - max 3 points\", \"items\": {}, \"title\": \"Positive\", \"type\": \"array\"}, \"negative\": {\"description\": \"A list showing the negatives mentioned by the customer in the review if any - max 3 points\", \"items\": {}, \"title\": \"Negative\", \"type\": \"array\"}, \"sentiment\": {\"description\": \"One word showing the sentiment of the review - positive, negative or neutral\", \"title\": \"Sentiment\", \"type\": \"string\"}, \"emotions\": {\"description\": \"A list of 3 - 5 emotions expressed by the customer in the review\", \"items\": {}, \"title\": \"Emotions\", \"type\": \"array\"}, \"email\": {\"description\": \"Detailed email to the customer based on the sentiment\", \"title\": \"Email\", \"type\": \"string\"}}, \"required\": [\"summary\", \"positive\", \"negative\", \"sentiment\", \"emotions\", \"email\"]}\\n```'}, template='\\nAnalyze the given customer review below and generate the response based on the instructions\\nmentioned below in the format instruction.\\nAlso remember to write a detailed email response for the email field based on these conditions:\\n     - email should be addressed to Dear Customer and signed with Service Agent\\n     - thank them if the review is positive or neutral\\n     - apologize if the review is negative\\n\\n     Format Instructions: {format_instructions}\\n\\n     Review: {review}\\n')"
            ]
          },
          "metadata": {},
          "execution_count": 4
        }
      ]
    },
    {
      "cell_type": "markdown",
      "source": [
        "# Create a LCEL LLM Chain"
      ],
      "metadata": {
        "id": "rW5JZUyD01Vr"
      }
    },
    {
      "cell_type": "code",
      "source": [
        "chain = (prompt | chatgpt | parser)"
      ],
      "metadata": {
        "id": "b7u3PIWG0-ej"
      },
      "execution_count": null,
      "outputs": []
    },
    {
      "cell_type": "markdown",
      "source": [
        "# Format the input review"
      ],
      "metadata": {
        "id": "Uw4MfUak05eM"
      }
    },
    {
      "cell_type": "code",
      "source": [
        "reviews_formatted = [{\"review\": review} for review in reviews]\n",
        "reviews_formatted"
      ],
      "metadata": {
        "colab": {
          "base_uri": "https://localhost:8080/"
        },
        "id": "WnSf5gbU1Dq6",
        "outputId": "3aef9806-b1b7-4070-bb09-d50d889ffc68"
      },
      "execution_count": null,
      "outputs": [
        {
          "output_type": "execute_result",
          "data": {
            "text/plain": [
              "[{'review': \"\\n    Just received the Bluetooth speaker I ordered for beach outings, and it's fantastic.\\n    The sound quality is impressively clear with just the right amount of bass.\\n    It's also waterproof, which tested true during a recent splashing incident.\\n    Though it's compact, the volume can really fill the space.\\n    The price was a bargain for such high-quality sound.\\n    Shipping was also on point, arriving two days early in secure packaging.\\n    \"},\n",
              " {'review': \"\\n    Purchased a new gaming keyboard because of its rave reviews about responsiveness and backlighting.\\n    It hasn't disappointed. The keys have a satisfying click and the LED colors are vibrant,\\n    enhancing my gaming experience significantly. Price-wise, it's quite competitive,\\n    and I feel like I got a good deal. The delivery was swift, and it came well-protected,\\n    ensuring no damage during transport.\\n    \"},\n",
              " {'review': \"\\n    Ordered a set of wireless earbuds for running, and they've been a letdown.\\n    The sound constantly cuts out, and the fit is uncomfortable after only a few minutes of use.\\n    They advertised a 12-hour battery life, but I'm barely getting four hours.\\n    Considering the cost, I expected better quality and performance.\\n    They did arrive on time, but the positives end there. I'm already looking into a return.\\n    \"},\n",
              " {'review': \"\\n    The tablet stand I bought was touted as being sturdy and adjustable,\\n    but it's anything but. It wobbles with the slightest touch,\\n    and the angles are not holding up as promised. It feels like a breeze could knock it over.\\n    It was also pricier than others I've seen, which adds to the disappointment.\\n    It did arrive promptly, but what's the use if the product doesn't meet basic expectations?\\n    \"},\n",
              " {'review': \"\\n    Needed a new kitchen blender, but this model has been a nightmare.\\n    It's supposed to handle various foods, but it struggles with anything tougher than cooked vegetables.\\n    It's also incredibly noisy, and the 'easy-clean' feature is a joke; food gets stuck under the blades constantly.\\n    I thought the brand meant quality, but this product has proven me wrong.\\n    Plus, it arrived three days late. Definitely not worth the expense.\\n    \"}]"
            ]
          },
          "metadata": {},
          "execution_count": 17
        }
      ]
    },
    {
      "cell_type": "markdown",
      "source": [
        "# Get responses from the LLM"
      ],
      "metadata": {
        "id": "pBLHSoti2dN1"
      }
    },
    {
      "cell_type": "code",
      "source": [
        "responses = chain.map().invoke(reviews_formatted)\n",
        "responses"
      ],
      "metadata": {
        "colab": {
          "base_uri": "https://localhost:8080/"
        },
        "id": "22Fh5hjk2k1a",
        "outputId": "0056feea-ede2-46ed-f0db-268f0d63af0a"
      },
      "execution_count": null,
      "outputs": [
        {
          "output_type": "execute_result",
          "data": {
            "text/plain": [
              "[ReviewAnalysisResponse(summary='The customer is satisfied with the Bluetooth speaker ordered, praising the sound quality, bass, waterproof feature, compactness, volume, and price. The speaker also arrived early in secure packaging.', positive=['Impressive sound quality', 'Waterproof feature', 'Arrived early in secure packaging'], negative=[], sentiment='positive', emotions=['satisfied', 'impressed', 'happy'], email='Dear Customer,\\n\\nThank you for your positive review. We are delighted to hear that you are satisfied with the Bluetooth speaker, its sound quality, and its waterproof feature. We are also glad that the product reached you earlier than expected and in secure packaging. We strive to provide our customers with high-quality products and efficient shipping services.\\n\\nThank you once again for your kind words. We look forward to serving you again.\\n\\nBest regards,\\nService Agent'),\n",
              " ReviewAnalysisResponse(summary='Customer is pleased with the gaming keyboard, praising its responsiveness, backlighting, and competitive price.', positive=['Responsive keys', 'Vibrant LED colors', 'Competitive price'], negative=[], sentiment='positive', emotions=['satisfaction', 'excitement', 'happiness'], email='Dear Customer,\\n\\nThank you for your positive review. We are glad to hear that you are enjoying your gaming keyboard, and we appreciate your compliments on its responsiveness and LED colors. We continue to strive to provide products that satisfy our customers and improve their gaming experience. Thank you for choosing our product and for your positive feedback.\\n\\nBest Regards,\\nService Agent'),\n",
              " ReviewAnalysisResponse(summary='The customer is dissatisfied with the wireless earbuds purchased, citing poor sound, discomfort, and insufficient battery life, despite being delivered on time.', positive=['Product was delivered on time'], negative=['Sound constantly cuts out', 'Uncomfortable fit', 'Battery life is less than advertised'], sentiment='negative', emotions=['disappointed', 'annoyed', 'uncomfortable', 'dissatisfied', 'frustrated'], email='Dear Customer,\\n\\nWe are truly sorry to hear about your recent experience with our wireless earbuds. We understand your disappointment with the product not meeting your expectations regarding sound quality, comfort, and battery life. We genuinely appreciate you bringing this matter to our attention, thus providing us an opportunity to improve.\\n\\nAs a valuable customer, your satisfaction is our top priority. We are investigating your concerns and assure you we will do our utmost to rectify the situation. If you wish to return the product or exchange it, we are more than willing to assist.\\n\\nAgain, we apologize for the inconvenience and thank you for your patience during this process.\\n\\nBest Regards,\\nService Agent'),\n",
              " ReviewAnalysisResponse(summary='The customer is dissatisfied with the tablet stand purchased due to its instability and failure to live up to promised features. They also found it overpriced considering the quality.', positive=['Product arrived promptly'], negative=['Stand wobbles easily', 'Angles not holding up as promised', 'Considered overpriced'], sentiment='negative', emotions=['Disappointed', 'Frustrated', 'Dissatisfied'], email='Dear Customer,\\n\\nWe are truly sorry to hear about your disappointing experience with the tablet stand you purchased from us. We understand your concerns regarding its stability and the issues you faced with the adjustable feature. We also want to acknowledge your dissatisfaction about the pricing. Your feedback is essential to us as it helps us improve our products and services. We value your business and would like to address your concerns as quickly as possible. Please reach out to our customer service team at your earliest convenience so that we can provide a solution to this issue.\\n\\nThank you for bringing this to our attention.\\n\\nBest,\\nService Agent'),\n",
              " ReviewAnalysisResponse(summary=\"Customer is dissatisfied with the kitchen blender's performance and its delayed delivery.\", positive=[], negative=['Struggles with blending hard foods', 'Excessively noisy', \"Inadequate 'easy-clean' feature\", 'Arrived three days late', 'Not worth the expense'], sentiment='negative', emotions=['disappointed', 'frustrated', 'annoyed', 'surprised', 'unhappy'], email=\"Dear Customer, \\n\\nWe regret to hear about your unfortunate experience with our kitchen blender. It's always our intention to deliver quality products, and we are truly sorry that the blender fell short of your expectations. In particular, we understand your frustration regarding its performance, noise level, cleaning difficulty and delay in delivery. \\n\\nWe will immediately forward your feedback to our product development team for further review and consideration. It's our goal to consistently improve and your points will be very helpful for us. We appreciate your honest review and for giving us the chance to make things right. \\n\\nBest, \\n\\nService Agent\")]"
            ]
          },
          "metadata": {},
          "execution_count": 20
        }
      ]
    },
    {
      "cell_type": "code",
      "source": [
        "for response in responses:\n",
        "    for k, v in response.dict().items():\n",
        "        print(f'{k}:\\n{v}')\n",
        "    print(\"***********************************************\")\n",
        "    print('\\n')"
      ],
      "metadata": {
        "colab": {
          "base_uri": "https://localhost:8080/"
        },
        "id": "sOwG7bHT2wBZ",
        "outputId": "5a4637b8-e8cc-4911-aa55-f3cba7a46759"
      },
      "execution_count": null,
      "outputs": [
        {
          "output_type": "stream",
          "name": "stdout",
          "text": [
            "summary:\n",
            "Customer is satisfied with the Bluetooth speaker they ordered for beach outings, impressed by the sound quality, the bass, the waterproof feature and the volume of the speaker.\n",
            "positive:\n",
            "['Sound quality is impressively clear', 'Just the right amount of bass', 'Waterproof feature tested true', 'Compact but has high volume', 'Price was a bargain', 'Shipping was quick and secure']\n",
            "negative:\n",
            "[]\n",
            "sentiment:\n",
            "positive\n",
            "emotions:\n",
            "['satisfaction', 'impressed', 'happiness', 'relief', 'excitement']\n",
            "email:\n",
            "Dear Customer, \n",
            "\n",
            "Thank you for taking the time to review our product. We are thrilled to hear that you're satisfied with the Bluetooth speaker and that it met your expectations in terms of sound quality, bass, compactness, and price. We also appreciate your positive feedback regarding our shipping service. We continuously strive to serve our customers better. Thank you once again for your positive review. \n",
            "\n",
            "Best Regards, \n",
            "Service Agent\n",
            "***********************************************\n",
            "\n",
            "\n",
            "summary:\n",
            "The customer is happy with their gaming keyboard purchase due to its responsiveness, vibrant LED colors, competitive price, swift delivery and secure packaging.\n",
            "positive:\n",
            "['Satisfying key clicks', 'Vibrant LED colors', 'Competitive pricing']\n",
            "negative:\n",
            "[]\n",
            "sentiment:\n",
            "positive\n",
            "emotions:\n",
            "['Satisfaction', 'Happiness', 'Grateful']\n",
            "email:\n",
            "Dear Customer,\n",
            "\n",
            "Thank you for your positive review and for choosing our product. It is wonderful to hear that you are enjoying your new gaming keyboard and that our product and services have met your expectations. Your satisfaction is our number one priority. Should you require any further assistance, please don't hesitate to get in touch.\n",
            "\n",
            "Best Regards,\n",
            "Service Agent\n",
            "***********************************************\n",
            "\n",
            "\n",
            "summary:\n",
            "Customer disappointed with his wireless earbuds, experiencing uncomfortable fit, sound issues, and limited battery life. Intends to return product.\n",
            "positive:\n",
            "['Product arrived on time']\n",
            "negative:\n",
            "['Sound constantly cuts out', 'Fit is uncomfortable', 'Battery life is less than advertised']\n",
            "sentiment:\n",
            "negative\n",
            "emotions:\n",
            "['Disappointed', 'Uncomfortable', 'Frustrated']\n",
            "email:\n",
            "Dear Customer,\n",
            "\n",
            "We are really sorry to hear about your experience with the wireless earbuds. We understand your disappointment and frustration. We would like to assist you with the return process. Your feedback is very valuable to us and we aim to improve based on it. We apologize again for the inconvenience caused.\n",
            "\n",
            "Best Regards,\n",
            "Service Agent\n",
            "***********************************************\n",
            "\n",
            "\n",
            "summary:\n",
            "The customer is disappointed with the tablet stand they purchased due to its lack of stability and adjustability. They found the product pricier than other alternatives and it failed to meet their basic expectations despite prompt delivery.\n",
            "positive:\n",
            "['Product arrived promptly']\n",
            "negative:\n",
            "['Lacks sturdiness', 'Adjustable angles not holding up', 'Pricier than other alternatives']\n",
            "sentiment:\n",
            "negative\n",
            "emotions:\n",
            "['disappointment', 'frustration']\n",
            "email:\n",
            "Dear Customer,\n",
            "\n",
            "We're truly sorry to hear about your experience with the tablet stand. We understand your disappointment in the product not living up to its claims of adjustability and sturdiness. We acknowledge that customers expect fair pricing for quality products, and we regret falling short in this instance. We appreciate your patience and understanding. Please let us know if you need assistance with a return or exchange. Your satisfaction is our priority and we hope to serve you better in the future.\n",
            "\n",
            "Best regards,\n",
            "Service Agent\n",
            "***********************************************\n",
            "\n",
            "\n",
            "summary:\n",
            "Customer was disappointed with the kitchen blender, citing issues such as poor food processing, excessive noise, and ineffective cleaning feature. The product also arrived late.\n",
            "positive:\n",
            "[]\n",
            "negative:\n",
            "['Struggles with processing tough foods', 'Incredibly noisy', \"Ineffective 'easy-clean' feature\", 'Late delivery', 'Not worth the expense']\n",
            "sentiment:\n",
            "negative\n",
            "emotions:\n",
            "['Disappointed', 'Frustrated', 'Regretful', 'Unsatisfied', 'Angry']\n",
            "email:\n",
            "Dear Customer,\n",
            "\n",
            "I truly apologize for the experience you had with our kitchen blender. It is unfortunate to hear that it did not meet your expectations in terms of its food processing capability, noise control, and easy cleaning feature. We understand how these issues, coupled with the late delivery, might have led to disappointment. I assure you that your feedback is important to us and we will look into these issues to ensure that they are addressed promptly. We strive to provide high-quality products to our customers and your feedback helps us to improve. Once again, I apologize for any inconvenience you have experienced. Thank you for bringing these issues to our attention.\n",
            "\n",
            "Best regards,\n",
            "Service Agent\n",
            "***********************************************\n",
            "\n",
            "\n"
          ]
        },
        {
          "output_type": "stream",
          "name": "stderr",
          "text": [
            "<ipython-input-19-1459258382>:2: PydanticDeprecatedSince20: The `dict` method is deprecated; use `model_dump` instead. Deprecated in Pydantic V2.0 to be removed in V3.0. See Pydantic V2 Migration Guide at https://errors.pydantic.dev/2.11/migration/\n",
            "  for k, v in response.dict().items():\n"
          ]
        }
      ]
    },
    {
      "cell_type": "code",
      "source": [],
      "metadata": {
        "id": "Esf0S9ND3_eO"
      },
      "execution_count": null,
      "outputs": []
    },
    {
      "cell_type": "code",
      "source": [],
      "metadata": {
        "id": "tYX23FeP3_Ty"
      },
      "execution_count": null,
      "outputs": []
    }
  ]
}