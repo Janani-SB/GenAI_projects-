{
  "nbformat": 4,
  "nbformat_minor": 0,
  "metadata": {
    "colab": {
      "provenance": [],
      "toc_visible": true,
      "collapsed_sections": [
        "BSGzbfWry2J9"
      ],
      "authorship_tag": "ABX9TyOXCag8KS8tWDo8x/19yZPs",
      "include_colab_link": true
    },
    "kernelspec": {
      "name": "python3",
      "display_name": "Python 3"
    },
    "language_info": {
      "name": "python"
    }
  },
  "cells": [
    {
      "cell_type": "markdown",
      "metadata": {
        "id": "view-in-github",
        "colab_type": "text"
      },
      "source": [
        "<a href=\"https://colab.research.google.com/github/Janani-SB/GenAI_projects-/blob/main/Mini_Project_2_Research_paper_Analyst.ipynb\" target=\"_parent\"><img src=\"https://colab.research.google.com/assets/colab-badge.svg\" alt=\"Open In Colab\"/></a>"
      ]
    },
    {
      "cell_type": "code",
      "execution_count": null,
      "metadata": {
        "id": "PNrAZlKtutzX"
      },
      "outputs": [],
      "source": []
    },
    {
      "cell_type": "markdown",
      "metadata": {
        "id": "XTzBUFWQ-OWj"
      },
      "source": [
        "# Project: Prompt Engineering with LangChain and ChatGPT for real-world tasks\n",
        "\n",
        "In this notebook you will leverage ChatGPT and LangChain to solve and do a few mini-projects based on some real-world scenarios:\n",
        "\n",
        "- Mini-Project 1: Review Analyst\n",
        "- Mini-Project 2: Research Paper Analyst\n",
        "- Mini-Project 3: Social Media Marketing Analyst\n",
        "- Mini-Project 4: IT Support Analyst\n",
        "\n"
      ]
    },
    {
      "cell_type": "markdown",
      "metadata": {
        "id": "eEtB1IOimA0i"
      },
      "source": [
        "# **Mini-Project 2: Research Paper Analyst**\n",
        "\n",
        "Make ChatGPT act as an AI expert and transform the given research paper abstract based on the nature of the audience mentioned below.\n",
        "\n",
        "- Short summary of maximum 10 lines for a general audience\n",
        "- Detailed report for a healthcare company. Have bullet points for pros and cons of ethics in Generative AI as mentioned in the paper\n",
        "- Detailed report for a generative AI company solving healthcare problems. Have bullet points for key points mentioned for Generative AI for text, images and structured data based healthcare\n",
        "\n",
        "Try to use `ChatPromptTemplate` so you can have a conversation with ChatGPT for each of the above tasks using conversational prompting"
      ]
    },
    {
      "cell_type": "markdown",
      "source": [
        "#Tech stack Summary\n"
      ],
      "metadata": {
        "id": "BSGzbfWry2J9"
      }
    },
    {
      "cell_type": "markdown",
      "metadata": {
        "id": "gjiheMsOMUO6"
      },
      "source": [
        "### Access the Research Paper Abstract"
      ]
    },
    {
      "cell_type": "code",
      "execution_count": null,
      "metadata": {
        "id": "4FnITE6zhV-9"
      },
      "outputs": [],
      "source": [
        "paper_abstract = f\"\"\"\n",
        "The widespread use of ChatGPT and other emerging technology powered by generative\n",
        "artificial intelligence (AI) has drawn much attention to potential ethical issues, especially in\n",
        "high-stakes applications such as healthcare.1–3 However, less clear is how to resolve such\n",
        "issues beyond following guidelines and regulations that are still under discussion and\n",
        "development. On the other hand, other types of generative AI have been used to synthesize\n",
        "images and other types of data for research and practical purposes, which have resolved some\n",
        "ethical issues and exposed other ethical issues,4,5 but such technology is less often the focus\n",
        "of ongoing ethical discussions. Here we highlight gaps in current ethical discussions of\n",
        "generative AI via a systematic scoping review of relevant existing research in healthcare, and\n",
        "reduce the gaps by proposing an ethics checklist for comprehensive assessment and\n",
        "transparent documentation of ethical discussions in generative AI development. While the\n",
        "checklist can be readily integrated into the current peer review and publication system to\n",
        "enhance generative AI research, it may also be used in broader settings to disclose ethicsrelated considerations in generative AI-powered products (or real-life applications of such\n",
        "products) to help users establish reasonable trust in their capabilities.\n",
        "\n",
        "Current ethical discussions on generative AI in healthcare\n",
        "We conducted a systematic scoping review to analyse current ethical discussions on\n",
        "generative AI in healthcare. Our search in four major academic research databases for\n",
        "relevant publications from January 2013 to July 2023 yielded 2859 articles (see Methods for\n",
        "detailed search strategy and Supplementary Figure S1 for the PRISMA flow diagram), of\n",
        "which 193 articles were included for analysis based on application data modality (text, image,\n",
        "or structured data), ethical issues discussed, generative AI involved, and whether generative\n",
        "AI causes or offers technical solutions for issues raised.\n",
        "\n",
        "Generative AI for text data-based healthcare\n",
        "Forty-one of the 193 articles discussed ethical considerations pertaining to generative AI\n",
        "applications for text data, with 20 articles describing methodological developments or\n",
        "applications of generative AI and the other 21 articles describing review-type works on this\n",
        "topic. Although some of these review-type articles used the general term “generative AI”, the\n",
        "main body and supporting evidence focused on LLMs. Twenty-nine articles had in-depth\n",
        "discussions on ethical issues, whereas the other 12 articles only briefly touched on some\n",
        "ethical aspects.\n",
        "Among the 41 articles, 29 articles focused on discussing ethical issues caused by LLMs (and\n",
        "specifically by GPT in 16 of the articles), covering a wide range of application scenarios and\n",
        "considered the application of all 10 ethical principles identified in the review (see Figure 1),\n",
        "as well as other less discussed concerns such as human-AI interaction, and the rights of\n",
        "LLMs to be considered as co-authors in scientific papers. One paper only commented briefly\n",
        "on the need for ethical considerations in LLMs and is summarised in the “Others” category.\n",
        "Although all ethical principles are equally important, some are discussed more often than\n",
        "others, e.g., non-maleficence (also referred to in the literature as ‘benevolence’), equity, and\n",
        "privacy.\n",
        "Fifteen of the 41 articles aimed to resolve some existing ethical issues (for example,\n",
        "confidentiality of medical data) by using LLMs and other generative AI (e.g., GAN,\n",
        "autoencoder or diffusion), such as, to reduce privacy concerns by generating synthetic\n",
        "medical text, to reduce disparity by providing accessible services and assistance, to detect\n",
        "health-related misinformation, to generate trusted content, and to improve accountability or\n",
        "transparency over existing approaches. While most articles focused on either identifying\n",
        "ethical issues caused by generative AI or proposing generative AI-based solutions, three\n",
        "articles discussed both to provide a more balanced perspective.\n",
        "\n",
        "Generative AI for image and structured data-based healthcare\n",
        "Unlike the diverse application scenarios of generative AI based on text data, for image and\n",
        "structured data, this use of generative AI focuses on data synthesis and encryption. Hence the\n",
        "majority of articles discussed the methodological developments of generative AI as giving\n",
        "rise to a more distinctive and focused set of ethical issues.\n",
        "5\n",
        "Notably, of the 98 articles on image data and 58 articles on structured data, more than half\n",
        "(n=63 for image data and n=33 for structured data) only mentioned ethical considerations as a\n",
        "brief motivation for methodological developments or as a general discussion point. The rest\n",
        "included more in-depth discussions or evaluations of ethical issues. Among these 155 articles\n",
        "(as one article covered multiple modalities), 11 articles were review-type work, where 10\n",
        "articles reviewed methods that mentioned one or two ethical perspectives, and only one\n",
        "article24 discussed detailed ethical concerns on generative AI applications.\n",
        "Resolving privacy issues was the main aim of articles for these two data modalities (n=74 for\n",
        "image data and n=50 for structured data; see Figure 1), predominantly by generating synthetic\n",
        "data using GAN. Eight articles on image data and 9 articles on structured data used\n",
        "generative AI to reduce bias, e.g., by synthesizing data for under-represented subgroups in\n",
        "existing databases. For both data modalities, we did not see explicit discussions on resolving\n",
        "autonomy, integrity, or morality issues using generative AI, and for structured data the articles\n",
        "additionally lacked discussions on trust or transparency.\n",
        "Only 11 articles for image data selectively discussed some ethical issues that generative AI\n",
        "can give rise to, without specific discussions regarding autonomy, integrity, or morality. For\n",
        "structured data, only 4 articles discussed equity, privacy, or data security issues caused by\n",
        "generative AI. Only two articles on structured data included both the cause and resolving\n",
        "perspectives by discussing ethical issues that may arise from limitations of methods\n",
        "proposed, specifically bias induced when synthesizing data in order to resolve privacy issues.\n",
        "\"\"\""
      ]
    },
    {
      "cell_type": "code",
      "source": [],
      "metadata": {
        "id": "h2KPy4wc8w45"
      },
      "execution_count": null,
      "outputs": []
    },
    {
      "cell_type": "code",
      "execution_count": null,
      "metadata": {
        "id": "Ims_-PP0v0Q3"
      },
      "outputs": [],
      "source": [
        "from getpass import getpass\n",
        "OPENAI_KEY = getpass(\"Enter your API Key here :\")"
      ]
    },
    {
      "cell_type": "code",
      "execution_count": null,
      "metadata": {
        "id": "DJjhFZd5v0Q4"
      },
      "outputs": [],
      "source": [
        "import os\n",
        "os.environ['OPENAI_API_KEY'] = OPENAI_KEY"
      ]
    },
    {
      "cell_type": "markdown",
      "metadata": {
        "id": "kHq866jyv0Q4"
      },
      "source": [
        "# Load necessary dependencies and ChatGPT LLM"
      ]
    },
    {
      "cell_type": "code",
      "execution_count": null,
      "metadata": {
        "id": "MtuC8KcLv0Q5",
        "colab": {
          "base_uri": "https://localhost:8080/",
          "height": 345
        },
        "outputId": "f15ea49d-2de8-47a8-c16a-6169f579249b"
      },
      "outputs": [
        {
          "output_type": "error",
          "ename": "ModuleNotFoundError",
          "evalue": "No module named 'langchain_openai'",
          "traceback": [
            "\u001b[0;31m---------------------------------------------------------------------------\u001b[0m",
            "\u001b[0;31mModuleNotFoundError\u001b[0m                       Traceback (most recent call last)",
            "\u001b[0;32m/tmp/ipython-input-5-3977706881.py\u001b[0m in \u001b[0;36m<cell line: 0>\u001b[0;34m()\u001b[0m\n\u001b[1;32m      1\u001b[0m \u001b[0;32mfrom\u001b[0m \u001b[0mlangchain_core\u001b[0m\u001b[0;34m.\u001b[0m\u001b[0mprompts\u001b[0m \u001b[0;32mimport\u001b[0m \u001b[0mChatPromptTemplate\u001b[0m\u001b[0;34m\u001b[0m\u001b[0;34m\u001b[0m\u001b[0m\n\u001b[0;32m----> 2\u001b[0;31m \u001b[0;32mfrom\u001b[0m \u001b[0mlangchain_openai\u001b[0m \u001b[0;32mimport\u001b[0m \u001b[0mChatOpenAI\u001b[0m\u001b[0;34m\u001b[0m\u001b[0;34m\u001b[0m\u001b[0m\n\u001b[0m",
            "\u001b[0;31mModuleNotFoundError\u001b[0m: No module named 'langchain_openai'",
            "",
            "\u001b[0;31m---------------------------------------------------------------------------\u001b[0;32m\nNOTE: If your import is failing due to a missing package, you can\nmanually install dependencies using either !pip or !apt.\n\nTo view examples of installing some common dependencies, click the\n\"Open Examples\" button below.\n\u001b[0;31m---------------------------------------------------------------------------\u001b[0m\n"
          ],
          "errorDetails": {
            "actions": [
              {
                "action": "open_url",
                "actionText": "Open Examples",
                "url": "/notebooks/snippets/importing_libraries.ipynb"
              }
            ]
          }
        }
      ],
      "source": [
        "from langchain_core.prompts import ChatPromptTemplate\n",
        "from langchain_openai import ChatOpenAI"
      ]
    },
    {
      "cell_type": "markdown",
      "metadata": {
        "id": "32O1xXMMv0Q5"
      },
      "source": [
        "# LLM Model"
      ]
    },
    {
      "cell_type": "code",
      "execution_count": null,
      "metadata": {
        "id": "SKLOn4Axv0Q5"
      },
      "outputs": [],
      "source": [
        "chatgpt = ChatOpenAI(model_name='gpt-4', temperature=0.9)"
      ]
    },
    {
      "cell_type": "markdown",
      "metadata": {
        "id": "WmUJ9Boqv0Q5"
      },
      "source": [
        "# Make ChatGPT act as an AI expert and transform the given research paper\n",
        "abstract based on the nature of the audience mentioned below."
      ]
    },
    {
      "cell_type": "markdown",
      "metadata": {
        "id": "_2b9-wY9v0Q5"
      },
      "source": [
        "# Create a prompt template for paper analysis and transformation"
      ]
    },
    {
      "cell_type": "code",
      "execution_count": null,
      "metadata": {
        "id": "kd7gC7k1v0Q5",
        "outputId": "abf8829f-3a26-4c83-863d-8a12f02efa63",
        "colab": {
          "base_uri": "https://localhost:8080/"
        }
      },
      "outputs": [
        {
          "output_type": "execute_result",
          "data": {
            "text/plain": [
              "ChatPromptTemplate(input_variables=['instruction'], input_types={}, partial_variables={}, messages=[SystemMessagePromptTemplate(prompt=PromptTemplate(input_variables=[], input_types={}, partial_variables={}, template='\\nAct as an AI expert.\\nTransform the input research paper abstract given below\\nbased on the instruction input by the user.\\n'), additional_kwargs={}), HumanMessagePromptTemplate(prompt=PromptTemplate(input_variables=['instruction'], input_types={}, partial_variables={}, template='{instruction}'), additional_kwargs={})])"
            ]
          },
          "metadata": {},
          "execution_count": 9
        }
      ],
      "source": [
        "sys_prompt = \"\"\"\n",
        "Act as an AI expert.\n",
        "Transform the input research paper abstract given below\n",
        "based on the instruction input by the user.\n",
        "\"\"\"\n",
        "\n",
        "prompt = ChatPromptTemplate.from_messages([(\"system\",sys_prompt),(\"human\",\"{instruction}\"),])\n",
        "prompt"
      ]
    },
    {
      "cell_type": "markdown",
      "metadata": {
        "id": "1EoWFxbsv0Q5"
      },
      "source": [
        "\n",
        "# Create a simple LCEL LLM Chain"
      ]
    },
    {
      "cell_type": "code",
      "execution_count": null,
      "metadata": {
        "id": "DQ_CjfT-v0Q6",
        "outputId": "c8e3c061-4c83-4bd8-b202-65f8cff8a3a1",
        "colab": {
          "base_uri": "https://localhost:8080/"
        }
      },
      "outputs": [
        {
          "output_type": "execute_result",
          "data": {
            "text/plain": [
              "ChatPromptTemplate(input_variables=['instruction'], input_types={}, partial_variables={}, messages=[SystemMessagePromptTemplate(prompt=PromptTemplate(input_variables=[], input_types={}, partial_variables={}, template='\\nAct as an AI expert.\\nTransform the input research paper abstract given below\\nbased on the instruction input by the user.\\n'), additional_kwargs={}), HumanMessagePromptTemplate(prompt=PromptTemplate(input_variables=['instruction'], input_types={}, partial_variables={}, template='{instruction}'), additional_kwargs={})])\n",
              "| ChatOpenAI(client=<openai.resources.chat.completions.completions.Completions object at 0x7a15d14f6850>, async_client=<openai.resources.chat.completions.completions.AsyncCompletions object at 0x7a15d0a73910>, root_client=<openai.OpenAI object at 0x7a15d14f6790>, root_async_client=<openai.AsyncOpenAI object at 0x7a15d0a71d50>, model_name='gpt-4', temperature=0.9, model_kwargs={}, openai_api_key=SecretStr('**********'))"
            ]
          },
          "metadata": {},
          "execution_count": 10
        }
      ],
      "source": [
        "chain = (prompt | chatgpt)\n",
        "chain"
      ]
    },
    {
      "cell_type": "markdown",
      "metadata": {
        "id": "ChLnlKPuv0Q6"
      },
      "source": [
        "##### Task 1 : Short summary of maximum 10 lines for a general audience"
      ]
    },
    {
      "cell_type": "markdown",
      "metadata": {
        "id": "1OvARrvFv0Q6"
      },
      "source": [
        "#### Generate the first summary report"
      ]
    },
    {
      "cell_type": "code",
      "execution_count": null,
      "metadata": {
        "id": "ZyYU-8m9v0Q6"
      },
      "outputs": [],
      "source": [
        "from langchain_core.messages import HumanMessage\n",
        "\n",
        "prompt_txt = f\"\"\"\n",
        "Based on the following research paper abstract,\n",
        "create the summary report of maximum 10 lines for a general audiance.\n",
        "Use simple language so that any non-tech background people can understand.\n",
        "\n",
        "Abstract:\n",
        "{paper_abstract}\n",
        "\"\"\"\n",
        "\n",
        "messages = [HumanMessage(content=prompt_txt)]\n",
        "user_instruction = {'instruction':messages}\n",
        "\n",
        "response = chain.invoke(user_instruction)\n",
        "messages.append(response)"
      ]
    },
    {
      "cell_type": "code",
      "execution_count": null,
      "metadata": {
        "id": "yqpBL0QGv0Q6",
        "outputId": "5369559c-f667-4948-e5ef-f36d8f2f99a9",
        "colab": {
          "base_uri": "https://localhost:8080/"
        }
      },
      "outputs": [
        {
          "output_type": "execute_result",
          "data": {
            "text/plain": [
              "[HumanMessage(content='\\nBased on the following research paper abstract,\\ncreate the summary report of maximum 10 lines for a general audiance.\\nUse simple language so that any non-tech background people can understand.\\n\\nAbstract:\\n\\nThe widespread use of ChatGPT and other emerging technology powered by generative\\nartificial intelligence (AI) has drawn much attention to potential ethical issues, especially in\\nhigh-stakes applications such as healthcare.1–3 However, less clear is how to resolve such\\nissues beyond following guidelines and regulations that are still under discussion and\\ndevelopment. On the other hand, other types of generative AI have been used to synthesize\\nimages and other types of data for research and practical purposes, which have resolved some\\nethical issues and exposed other ethical issues,4,5 but such technology is less often the focus\\nof ongoing ethical discussions. Here we highlight gaps in current ethical discussions of\\ngenerative AI via a systematic scoping review of relevant existing research in healthcare, and\\nreduce the gaps by proposing an ethics checklist for comprehensive assessment and\\ntransparent documentation of ethical discussions in generative AI development. While the\\nchecklist can be readily integrated into the current peer review and publication system to\\nenhance generative AI research, it may also be used in broader settings to disclose ethicsrelated considerations in generative AI-powered products (or real-life applications of such\\nproducts) to help users establish reasonable trust in their capabilities.\\n\\nCurrent ethical discussions on generative AI in healthcare\\nWe conducted a systematic scoping review to analyse current ethical discussions on\\ngenerative AI in healthcare. Our search in four major academic research databases for\\nrelevant publications from January 2013 to July 2023 yielded 2859 articles (see Methods for\\ndetailed search strategy and Supplementary Figure S1 for the PRISMA flow diagram), of\\nwhich 193 articles were included for analysis based on application data modality (text, image,\\nor structured data), ethical issues discussed, generative AI involved, and whether generative\\nAI causes or offers technical solutions for issues raised.\\n\\nGenerative AI for text data-based healthcare\\nForty-one of the 193 articles discussed ethical considerations pertaining to generative AI\\napplications for text data, with 20 articles describing methodological developments or\\napplications of generative AI and the other 21 articles describing review-type works on this\\ntopic. Although some of these review-type articles used the general term “generative AI”, the\\nmain body and supporting evidence focused on LLMs. Twenty-nine articles had in-depth\\ndiscussions on ethical issues, whereas the other 12 articles only briefly touched on some\\nethical aspects.\\nAmong the 41 articles, 29 articles focused on discussing ethical issues caused by LLMs (and\\nspecifically by GPT in 16 of the articles), covering a wide range of application scenarios and\\nconsidered the application of all 10 ethical principles identified in the review (see Figure 1),\\nas well as other less discussed concerns such as human-AI interaction, and the rights of\\nLLMs to be considered as co-authors in scientific papers. One paper only commented briefly\\non the need for ethical considerations in LLMs and is summarised in the “Others” category.\\nAlthough all ethical principles are equally important, some are discussed more often than\\nothers, e.g., non-maleficence (also referred to in the literature as ‘benevolence’), equity, and\\nprivacy.\\nFifteen of the 41 articles aimed to resolve some existing ethical issues (for example,\\nconfidentiality of medical data) by using LLMs and other generative AI (e.g., GAN,\\nautoencoder or diffusion), such as, to reduce privacy concerns by generating synthetic\\nmedical text, to reduce disparity by providing accessible services and assistance, to detect\\nhealth-related misinformation, to generate trusted content, and to improve accountability or\\ntransparency over existing approaches. While most articles focused on either identifying\\nethical issues caused by generative AI or proposing generative AI-based solutions, three\\narticles discussed both to provide a more balanced perspective.\\n\\nGenerative AI for image and structured data-based healthcare\\nUnlike the diverse application scenarios of generative AI based on text data, for image and\\nstructured data, this use of generative AI focuses on data synthesis and encryption. Hence the\\nmajority of articles discussed the methodological developments of generative AI as giving\\nrise to a more distinctive and focused set of ethical issues.\\n5\\nNotably, of the 98 articles on image data and 58 articles on structured data, more than half\\n(n=63 for image data and n=33 for structured data) only mentioned ethical considerations as a\\nbrief motivation for methodological developments or as a general discussion point. The rest\\nincluded more in-depth discussions or evaluations of ethical issues. Among these 155 articles\\n(as one article covered multiple modalities), 11 articles were review-type work, where 10\\narticles reviewed methods that mentioned one or two ethical perspectives, and only one\\narticle24 discussed detailed ethical concerns on generative AI applications.\\nResolving privacy issues was the main aim of articles for these two data modalities (n=74 for\\nimage data and n=50 for structured data; see Figure 1), predominantly by generating synthetic\\ndata using GAN. Eight articles on image data and 9 articles on structured data used\\ngenerative AI to reduce bias, e.g., by synthesizing data for under-represented subgroups in\\nexisting databases. For both data modalities, we did not see explicit discussions on resolving\\nautonomy, integrity, or morality issues using generative AI, and for structured data the articles\\nadditionally lacked discussions on trust or transparency.\\nOnly 11 articles for image data selectively discussed some ethical issues that generative AI\\ncan give rise to, without specific discussions regarding autonomy, integrity, or morality. For\\nstructured data, only 4 articles discussed equity, privacy, or data security issues caused by\\ngenerative AI. Only two articles on structured data included both the cause and resolving\\nperspectives by discussing ethical issues that may arise from limitations of methods\\nproposed, specifically bias induced when synthesizing data in order to resolve privacy issues.\\n\\n', additional_kwargs={}, response_metadata={}),\n",
              " AIMessage(content='AI technologies like ChatGPT are increasingly being used in many areas, including healthcare, and this is raising ethical concerns. However, guidelines and regulations on how to manage these issues are still being developed. We have used a systematic review to analyze how ethical issues are currently being discussed in the context of generative AI in healthcare. We also propose an ethics checklist to help thoroughly evaluate and document these discussions. Using this checklist can help to better understand the ethical considerations of AI-powered products and can help users trust these technologies.\\n\\nWe analyzed 193 articles and found discussions about ethical issues related to text data, image data, and structured data in healthcare. For example, some articles highlighted ethical issues caused by AI technologies, while others saw AI as a potential solution to existing ethical issues. However, important ethical principles like non-maleficence, equity, and privacy were discussed more often than other issues.\\n\\nIn the area of image and structured data, AI is mostly used for data synthesis and encryption and presents a specific set of ethical issues. Many of these articles focused on using AI to resolve privacy issues by generating synthetic data. However, the discussions on resolving ethical issues related to autonomy, integrity, and morality were lacking.', additional_kwargs={'refusal': None}, response_metadata={'token_usage': {'completion_tokens': 241, 'prompt_tokens': 1343, 'total_tokens': 1584, 'completion_tokens_details': {'accepted_prediction_tokens': 0, 'audio_tokens': 0, 'reasoning_tokens': 0, 'rejected_prediction_tokens': 0}, 'prompt_tokens_details': {'audio_tokens': 0, 'cached_tokens': 0}}, 'model_name': 'gpt-4-0613', 'system_fingerprint': None, 'id': 'chatcmpl-BkX6SxMhRLBdtERiQCZsl5vkJQXrU', 'service_tier': 'default', 'finish_reason': 'stop', 'logprobs': None}, id='run--071b7f04-772a-4d44-8249-63ae305ae127-0', usage_metadata={'input_tokens': 1343, 'output_tokens': 241, 'total_tokens': 1584, 'input_token_details': {'audio': 0, 'cache_read': 0}, 'output_token_details': {'audio': 0, 'reasoning': 0}})]"
            ]
          },
          "metadata": {},
          "execution_count": 12
        }
      ],
      "source": [
        "messages"
      ]
    },
    {
      "cell_type": "code",
      "execution_count": null,
      "metadata": {
        "id": "8rgteYl-v0Q7",
        "outputId": "150c9195-5172-4ffe-9be0-b93f7768d42e",
        "colab": {
          "base_uri": "https://localhost:8080/",
          "height": 145
        }
      },
      "outputs": [
        {
          "output_type": "execute_result",
          "data": {
            "text/plain": [
              "'AI technologies like ChatGPT are increasingly being used in many areas, including healthcare, and this is raising ethical concerns. However, guidelines and regulations on how to manage these issues are still being developed. We have used a systematic review to analyze how ethical issues are currently being discussed in the context of generative AI in healthcare. We also propose an ethics checklist to help thoroughly evaluate and document these discussions. Using this checklist can help to better understand the ethical considerations of AI-powered products and can help users trust these technologies.\\n\\nWe analyzed 193 articles and found discussions about ethical issues related to text data, image data, and structured data in healthcare. For example, some articles highlighted ethical issues caused by AI technologies, while others saw AI as a potential solution to existing ethical issues. However, important ethical principles like non-maleficence, equity, and privacy were discussed more often than other issues.\\n\\nIn the area of image and structured data, AI is mostly used for data synthesis and encryption and presents a specific set of ethical issues. Many of these articles focused on using AI to resolve privacy issues by generating synthetic data. However, the discussions on resolving ethical issues related to autonomy, integrity, and morality were lacking.'"
            ],
            "application/vnd.google.colaboratory.intrinsic+json": {
              "type": "string"
            }
          },
          "metadata": {},
          "execution_count": 13
        }
      ],
      "source": [
        "response.content"
      ]
    },
    {
      "cell_type": "markdown",
      "metadata": {
        "id": "qe-d6C7gv0Q7"
      },
      "source": [
        "### Task 2 : Detailed report for a healthcare company. Have bullet points for pros and cons of ethics in Generative AI as mentioned in the paper"
      ]
    },
    {
      "cell_type": "code",
      "execution_count": null,
      "metadata": {
        "id": "T39YJPJtv0Q7",
        "outputId": "12abaa44-a24a-4971-913f-a012a92412e2",
        "colab": {
          "base_uri": "https://localhost:8080/"
        }
      },
      "outputs": [
        {
          "output_type": "stream",
          "name": "stdout",
          "text": [
            "Title: Ethics in Generative AI in Healthcare \n",
            "\n",
            "The transformative potential of AI technologies in healthcare has been the subject of robust discussion in recent years. In particular, the burgeoning application of Generative AI like ChatGPT in various facets of healthcare has been scrutinized critically for the associated ethical issues. This report addresses the current ethical conversation surrounding generative AI use in healthcare based on a rigorous systematic scoping review of relevant research.\n",
            "\n",
            "Generative AI, with its impressive potential to synthesize diverse forms of data for research and practical applications, has resolved some ethical issues, while simultaneously unearthing others that have largely escaped comprehensive discussion. The review of 193 publications from 2013 to 2023 reveals a rich terrain of ethical concerns, some more prevalent than others, surrounding the generative AI applications for text, image, and structured data in healthcare.\n",
            "\n",
            "By proposing an ethics checklist, this research aims to plug gaps in the current ethical discourse, providing a tool for comprehensive ethical assessment and transparent documentation of generative AI development. This checklist could prove instrumental in fortifying the peer-review and publication system, while facilitating informed trust-building in users of AI-powered products in a real-life setting.\n",
            "\n",
            "Pros of Ethics in Generative AI:\n",
            "1. Enhances trust: By addressing ethical considerations, users can have more trust in AI technologies.\n",
            "2. Promotes transparency: Ethical considerations can lead to more transparency in how AI is developed and used.\n",
            "3. Protects privacy: Addressing ethics in generative AI can help protect user privacy, especially in healthcare.\n",
            "4. Reduces disparity: Ethical considerations can help ensure AI technologies are accessible and beneficial to all.\n",
            "5. Encourages accountability: With robust ethical guidelines, developers are more likely to be held accountable for their AI technology.\n",
            "\n",
            "Cons of Ethics in Generative AI:\n",
            "1. Lack of consensus: There is still ongoing debate and lack of agreement in the field about what constitutes ethical AI.\n",
            "2. Regulation challenges: Implementing and enforcing ethical guidelines in a rapidly evolving field like AI can be difficult.\n",
            "3. Potential for misuse: Despite ethical guidelines, there is always potential for misuse of generative AI technology.\n",
            "4. Hindrance to innovation: Some argue stringent ethical considerations could potentially stifle innovation in AI technology.\n",
            "5. Difficulty in universal application: Cultural, societal, or other differences may make it challenging to apply one set of ethical guidelines universally.\n"
          ]
        }
      ],
      "source": [
        "prompt_txt = f\"\"\"\n",
        "Use only the research paper abstract from earlier and create a detailed report for a healthcare company.\n",
        "In the report, also include bullet points (5 max) for pros and cons of ethics in Generative AI.\n",
        "\"\"\"\n",
        "messages.append(HumanMessage(content=prompt_txt))\n",
        "user_instruction = {'instruction':messages}\n",
        "\n",
        "response = chain.invoke(user_instruction)\n",
        "print(response.content)"
      ]
    },
    {
      "cell_type": "markdown",
      "metadata": {
        "id": "PpPxjX2Zv0Q7"
      },
      "source": [
        "### Task 3 : Detailed report for a generative AI company solving healthcare problems. Have bullet points for key points mentioned for Generative AI for text, images and structured data based healthcare\n",
        "##### Try to use ChatPromptTemplate so you can have a conversation with ChatGPT for each of the above tasks using conversational prompting"
      ]
    },
    {
      "cell_type": "code",
      "execution_count": null,
      "metadata": {
        "id": "l_dyUTFwv0Q7",
        "outputId": "68796726-1e84-4664-9f32-759d513ba5c8",
        "colab": {
          "base_uri": "https://localhost:8080/"
        }
      },
      "outputs": [
        {
          "output_type": "stream",
          "name": "stdout",
          "text": [
            "Title: Ethical Discussions in Generative AI Applications for Healthcare\n",
            "\n",
            "Dear [Company Name],\n",
            "\n",
            "The recent research conducted has highlighted the increasing usage of Generative AI technologies such as ChatGPT in diverse fields, including healthcare, and its associated ethical implications. Our systematic scoping review has indicated areas where there is potential for ethical controversy. \n",
            "\n",
            "A suggested ethics checklist has been prepared to help with comprehensively assessing and transparently documenting these ethical discussions in Generative AI development. This checklist can be seamlessly integrated into peer review and publication systems to enhance research and can be used in wider applications to highlight ethics-related considerations in AI-based products.\n",
            "\n",
            "The research has discovered:\n",
            "\n",
            "1. Generative AI for Text Data-Based Healthcare:\n",
            "   - A number of articles discuss ethical issues related to Generative AI applications for text data. \n",
            "   - Subjects of discussion include methodological developments and applications of Generative AI in healthcare.\n",
            "   - Ethical principles discussed include non-maleficence, equity, and privacy. These were discussed more frequently than other principles.\n",
            "\n",
            "2. Generative AI for Image Data-Based Healthcare:\n",
            "   - Most of the discussions revolve around the methodological developments of Generative AI, which gives rise to a unique, focused set of ethical issues. \n",
            "   - The main aim of articles was resolving privacy issues predominantly by generating synthetic data using Generative AI.\n",
            "\n",
            "3. Generative AI for Structured Data-Based Healthcare:\n",
            "   - Similar to image data, Generative AI is used primarily for data synthesis and encryption.\n",
            "   - Ethical discussions mostly revolve around resolving privacy issues by synthetic data generation.\n",
            "   - Discussions on resolving ethical issues related to autonomy, integrity, or morality were deficient. \n",
            "\n",
            "The research findings suggest that discussions on ethics in Generative AI in healthcare are essential and must be carried out for a broader understanding and development of guidelines and regulations.\n",
            "\n",
            "We believe that incorporating these findings into your Generative AI solutions will vastly contribute to a better understanding of the ethical considerations, thereby enhancing user trust in these technologies.\n",
            "\n",
            "Best Regards,\n",
            "[Your Name]\n"
          ]
        }
      ],
      "source": [
        "prompt_txt = f\"\"\"\n",
        "Use only the research paper abstract from earlier and create a detailed report for a generative AI\n",
        "company solving healthcare problems.\n",
        "\n",
        "In the report also include sections for key points mentioned around\n",
        "Generative AI for text, images and structured data based healthcare.\n",
        "\"\"\"\n",
        "\n",
        "messages.append(HumanMessage(content=prompt_txt))\n",
        "user_instruction = {'instruction':messages}\n",
        "\n",
        "response = chain.invoke(user_instruction)\n",
        "print(response.content)"
      ]
    },
    {
      "cell_type": "code",
      "execution_count": null,
      "metadata": {
        "id": "ftIHQlokv0Q7"
      },
      "outputs": [],
      "source": []
    },
    {
      "cell_type": "code",
      "execution_count": null,
      "metadata": {
        "id": "ks24WfrDv0Q8"
      },
      "outputs": [],
      "source": []
    }
  ]
}